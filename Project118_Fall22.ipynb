{
 "cells": [
  {
   "cell_type": "code",
   "execution_count": null,
   "metadata": {},
   "outputs": [],
   "source": [
    "import numpy as np\n",
    "import pandas as pd\n",
    "\n",
    "%matplotlib inline\n",
    "import matplotlib.pyplot as plt\n",
    "plt.style.use('fivethirtyeight')\n",
    "import warnings\n",
    "warnings.simplefilter('ignore', FutureWarning)"
   ]
  },
  {
   "cell_type": "markdown",
   "metadata": {},
   "source": [
    "## Midterm Project for DATA 11800 - Fall  2022 (due November 10)\n",
    "\n",
    "This is not a group project. You may discuss the project with other students but you should code and write the report independently. You should acknowledge any help in writing. The score will be based on:\n",
    "-  Clarity and soundness of the arguments and conclusions; \n",
    "-  Use of data to back up arguments and analysis quality;  \n",
    "-  Insightfulness of the results;\n",
    "-  Quality of the data vizualizations, summaries used, and overall presentation. Make sure you use headings, captions for figures and tables etc. When you interpret a graph or data from a table, you should clearly specify which figure/table you refer to.\n",
    "\n",
    "The project is inspired from the current Fall Data Challenge from the American Statistical Association. You can find information about it here:\n",
    "https://thisisstatistics.org/falldatachallenge/\n",
    "\n",
    "The goal of the ASA Data challenge is to encourage contestants to \"*dive into data on the impacts of school choice and family engagement in school activities and homework*\" and to \"*provide recommendations on factors that best optimize family involvement and support of K-12 students’ academic excellence*\". Data about parent involvement in education and school choice from kindergarten to high school are currently collected in the [Parent and Family Involvement in Education (PFI)](https://nces.ed.gov/nhes/parent_involvement.asp).\n",
    "\n",
    "Information about the data can be found [here](https://docs.google.com/document/d/1qXnbS4fjuQ9hbRxGaSmix3CGb3FUi6U5/) (there is an overview, links to the datasets, links to codebooks etc.):\n",
    "\n",
    "The goal of this project is to gain insight into parent involvement using the tools you have learned so far in this class.\n",
    "\n",
    "### The Data \n",
    "\n",
    "You can use any additional data you can find to get insight into this issue, but you need to specify the provenance of that data in your report. \n",
    "\n",
    "There are two years of data provided in the challenge: 2019 and 2016, and we only provide the 2019 data. Also included are a codebook (a pdf file containing information about each variable), and the list of variables in this dataset (an Excel file that points each variable in the data frame to info in the pdf file). You can easily download the 2016 dataset as well if you need it for your analysis, but that is optional.  For 2019, the data has 15,500 rows and 75 columns. \n"
   ]
  },
  {
   "cell_type": "code",
   "execution_count": null,
   "metadata": {
    "scrolled": true
   },
   "outputs": [],
   "source": [
    "# the smaller dataset\n",
    "proj1_df=pd.read_csv('http://www.stat.uchicago.edu/~nicolae/118/PFI_2019.csv')\n",
    "print(proj1_df.shape)\n",
    "proj1_df.head(5)"
   ]
  },
  {
   "cell_type": "code",
   "execution_count": null,
   "metadata": {},
   "outputs": [],
   "source": [
    "# we need this for the note below\n",
    "proj1_df.EDCPUB.value_counts()"
   ]
  },
  {
   "cell_type": "markdown",
   "metadata": {},
   "source": [
    "###  Note on the data\n",
    "\n",
    "The codebook has table summaries for each variable but the numbers in there will not be the same as what you would obtain from these data. For example, for EDCPUB, the codebook shows 14,057 1's and 2,389 2's which is different than the output of the cell code above. The reason for this discrepancy: the dataset we provide has been curated (for example, the rows for home-schooled children were removed).\n"
   ]
  },
  {
   "cell_type": "markdown",
   "metadata": {},
   "source": [
    "## The Assignment\n",
    "\n",
    "### Report on your findings about schooling. \n",
    "Imagine you are serving as a consultant to a school district. You have been engaged to provide insights to the district on interpreting these survey results; the district would like to know where they should direct their attention for groups of students who may need help.\n",
    "\n",
    "You must submit two files: \n",
    "\n",
    "1. The Jupyter Notebook that contains all the code you use for the analysis. You do not need to submit data you used, but just indicate how you obtained it in the Notebook.\n",
    "\n",
    "2. A PDF report of your findings. **This report should be at most 4 pages long including references.** Use data visualization and data summaries to justify your conclusions. Note that the page limitation means you will not show all analyses and plots you will make - select carefully what you think is most relevant.\n",
    "\n",
    "The report should address the following points:\n",
    "\n",
    "A.  **Introduce the dataset**.  Who, what, where, and why was this data generated?  \n",
    "\n",
    "B.  **Characteristics of sample**. Describe the sample of students and families in the dataset.    Summarize the distribution of one of the characteristics of the parents and households.  Some interesting variables you may consider include: marital status, employment, age, income, own/rent etc.  Graphs or tables of student and family characteristics may help here.\n",
    "\n",
    "C. **Relationships in the sample.**  Check the relationship beween two of the student characteristics (race, sex, language spoken...) and at least two of school grades (ALLGRADEX), whether students are in public (EDCPUB), and student disability (DSBLTY).  For example, do you find evidence that students in public/private schools, or disabled / not disabled status have higher grades?\n",
    "\n",
    "D. **Relationships with outcome variables.**  The family involvement variables are the ones starting with FO, and variables that measure student success include  measure SEENJOY, SEGRADES, and possibly SEGRADEDQ and SEABSENT.  Choose a variable to measure success and check the degree to which variables in family involvement seem to affect success.\n",
    "\n",
    "E. **Provide context**  What do the relationships you discovered imply?  What are some questions about parental involvement in education that you would like to answer but are unable to with the current data set alone?  What data would you need to be able to answer them?\n",
    "\n",
    "F. **Conclusion** What did you learn from exploring this dataset?"
   ]
  },
  {
   "cell_type": "markdown",
   "metadata": {},
   "source": [
    "Your submission is to be uploaded to Canvas.  \n",
    "There are some minimum requirements for your submission:\n",
    "\n",
    "1. Upload your report in PDF format and the jupyter notebook containing your analysis code.\n",
    "2. The report should be 4 pages maximum, including bibliography, tables and figures.\n",
    "3. If your report uses outside results and/or data, proper citations must be provided.\n",
    "    \n"
   ]
  },
  {
   "cell_type": "code",
   "execution_count": null,
   "metadata": {},
   "outputs": [],
   "source": []
  }
 ],
 "metadata": {
  "kernelspec": {
   "display_name": "Python 3 (ipykernel)",
   "language": "python",
   "name": "python3"
  },
  "language_info": {
   "codemirror_mode": {
    "name": "ipython",
    "version": 3
   },
   "file_extension": ".py",
   "mimetype": "text/x-python",
   "name": "python",
   "nbconvert_exporter": "python",
   "pygments_lexer": "ipython3",
   "version": "3.9.7"
  }
 },
 "nbformat": 4,
 "nbformat_minor": 4
}
