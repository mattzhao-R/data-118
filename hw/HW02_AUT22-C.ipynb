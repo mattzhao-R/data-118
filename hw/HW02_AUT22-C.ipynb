{
 "cells": [
  {
   "cell_type": "markdown",
   "metadata": {},
   "source": [
    "# Homework 2: Arrays and Data Frames (50 points)\n",
    "\n",
    "Please complete this notebook by filling in the cells provided. The solved homework should be uploaded to Canvas."
   ]
  },
  {
   "cell_type": "markdown",
   "metadata": {},
   "source": [
    "**Reading**: Data8 textbook chapters [4](https://inferentialthinking.com/chapters/04/Data_Types.html), and [5](https://inferentialthinking.com/chapters/05/Sequences.html) .\n",
    "\n",
    "**Deadline**: This assignment is due on Thursday, October 13 at 9:00am. Late work will not be accepted unless you have made special arrangements with the instructors.\n",
    "\n",
    "Directly sharing answers is not okay, but discussing problems with the course staff or with other students is encouraged.\n",
    "\n",
    "You should start early so that you have time to get help if you're stuck.\n"
   ]
  },
  {
   "cell_type": "code",
   "execution_count": null,
   "metadata": {},
   "outputs": [],
   "source": [
    "# Don't change this cell; just run it. \n",
    "import numpy as np\n",
    "import pandas as pd\n",
    "\n",
    "%matplotlib inline\n",
    "import matplotlib.pyplot as plt\n",
    "plt.style.use('fivethirtyeight')\n",
    "import warnings\n",
    "warnings.simplefilter('ignore', FutureWarning)"
   ]
  },
  {
   "cell_type": "markdown",
   "metadata": {},
   "source": [
    "## 1. New York police complaints (18 points)\n",
    "\n",
    "The Propublica Data Store distributes a dataset called **Civilian Complaints Against New York City Police Officers**, part of the **NYPD Files** datasets, last revised July 2020.\n",
    "\n",
    "The terms of the dataset license do not permit third parties like our University to distribute it, so you have to download it directly from Propublica:\n",
    "https://www.propublica.org/datastore/dataset/civilian-complaints-against-new-york-city-police-officers\n",
    "\n",
    "The download has several files including a .csv file with the name you see in the code cell below. When you read the file into the notebook, make sure you specify the correct path for the location of the file. The dataset contains 33,358 complaints (rows), about 2,000 a year since 2005.  Spend a minute looking at the data dictionary.  "
   ]
  },
  {
   "cell_type": "code",
   "execution_count": null,
   "metadata": {},
   "outputs": [],
   "source": [
    "# run this to load the data and verify the dimensions of the data frame\n",
    "allegations = pd.read_csv(\"allegations_202007271729.csv\")\n",
    "allegations.shape  ## (33358, 27)"
   ]
  },
  {
   "cell_type": "code",
   "execution_count": null,
   "metadata": {},
   "outputs": [],
   "source": [
    "# run this to see the first few rows of the data frame\n",
    "allegations.head(5)"
   ]
  },
  {
   "cell_type": "markdown",
   "metadata": {},
   "source": [
    "**Question 1.** Add a column called `fullname` to the data frame `allegations` that combines `first_name` and `last_name`. Note that we will use this next to try to count the number of distinct individuals named in this dataset."
   ]
  },
  {
   "cell_type": "code",
   "execution_count": null,
   "metadata": {
    "scrolled": true
   },
   "outputs": [],
   "source": []
  },
  {
   "cell_type": "markdown",
   "metadata": {},
   "source": [
    "**Question 2.** Using only the `fullname` column you just created, estimate the number of individual officers who are named in the complaints database."
   ]
  },
  {
   "cell_type": "code",
   "execution_count": null,
   "metadata": {
    "scrolled": true
   },
   "outputs": [],
   "source": []
  },
  {
   "cell_type": "markdown",
   "metadata": {},
   "source": [
    "**Question 3.**  The `shield_no` column contains data on the shield numbers for the officers involved (similar to an id number). How many unique entries are in this column? What is the most common value for `shield_no` and why?"
   ]
  },
  {
   "cell_type": "code",
   "execution_count": null,
   "metadata": {},
   "outputs": [],
   "source": []
  },
  {
   "cell_type": "markdown",
   "metadata": {},
   "source": [
    "**Question 4.** How many distinct names are in the group of officers with shield number equal to 0? "
   ]
  },
  {
   "cell_type": "code",
   "execution_count": null,
   "metadata": {
    "scrolled": true
   },
   "outputs": [],
   "source": []
  },
  {
   "cell_type": "markdown",
   "metadata": {},
   "source": [
    "**Question 5.** How many distinct names are in the group of officers with shield number different than 0? How does the number you get when adding the numbers you obtain in Question 4 and 5 compare to the one you get in Question 2? Why is there a difference?"
   ]
  },
  {
   "cell_type": "code",
   "execution_count": null,
   "metadata": {},
   "outputs": [],
   "source": []
  },
  {
   "cell_type": "markdown",
   "metadata": {},
   "source": [
    "**Question 6.** Estimate the number of officers in the database who are named in only a one complaint. (This is an estimate because it is possible that two officers could share first and last names and at the same time be missing unique identifiers.) How does this compare to the number of complaints?  "
   ]
  },
  {
   "cell_type": "code",
   "execution_count": null,
   "metadata": {},
   "outputs": [],
   "source": []
  },
  {
   "cell_type": "markdown",
   "metadata": {},
   "source": [
    "**Optional question.** What is the minimum number of officers you need to account for half of the complaints in the database?  You can find the minimum number of officers by selecting the officers in order from hihgest to smallest number of complaints, and checking how many you need to add up to half of the total."
   ]
  },
  {
   "cell_type": "code",
   "execution_count": null,
   "metadata": {},
   "outputs": [],
   "source": []
  },
  {
   "cell_type": "markdown",
   "metadata": {},
   "source": [
    "## 2. Colleges (20 points)\n",
    "\n",
    "The question uses data that we downloaded from Kaggle.com; more precisely from here:\n",
    "\n",
    "https://www.kaggle.com/theriley106/university-statistics\n",
    "\n",
    "The dataset was posted at the beginning of 2018, and was grabbed from US-News: https://www.usnews.com. It includes statistics for 311 US Universities. \n",
    "\n",
    "To make your tasks easier, we removed many of the columns and kept only 11. The corresponding file can be found here:\n",
    "\n",
    "http://www.stat.uchicago.edu/~nicolae/118/colleges1.csv\n",
    "\n",
    "We will use these data in other homework. If you find it useful, you can download the file and open it with Excel - you might get a better understanding of the data. For example, there are universities for which there is incomplete data.\n",
    "\n",
    "**Run the next cell that contains code that will allow you to read the data into a data frame called `colleges_df`.** It also shows the first 10 rows."
   ]
  },
  {
   "cell_type": "code",
   "execution_count": null,
   "metadata": {
    "scrolled": true
   },
   "outputs": [],
   "source": [
    "colleges_df=pd.read_csv('http://www.stat.uchicago.edu/~nicolae/118/colleges1.csv')\n",
    "colleges_df.head(10)"
   ]
  },
  {
   "cell_type": "markdown",
   "metadata": {},
   "source": [
    "**Missing entries**. Run the cell code below to see the number of entries that are missing for each variable."
   ]
  },
  {
   "cell_type": "code",
   "execution_count": null,
   "metadata": {
    "scrolled": true
   },
   "outputs": [],
   "source": [
    "print(colleges_df.isnull().sum())"
   ]
  },
  {
   "cell_type": "markdown",
   "metadata": {},
   "source": [
    "**Question 1.** Display a dataframe with the five universities with the largest enrollment, showing only the name, enrollment, tuition, and rank."
   ]
  },
  {
   "cell_type": "code",
   "execution_count": null,
   "metadata": {
    "scrolled": true
   },
   "outputs": [],
   "source": []
  },
  {
   "cell_type": "markdown",
   "metadata": {},
   "source": [
    "**Question 2.** \n",
    "\n",
    "Create a new column in the `colleges_df` called `Rounded_Tuition` that contains the tuition for all universities in the dataset rounded down to the nearest thousand (tuition of 54825 should be 54000 in the new column). \n",
    "\n",
    "Display the name of all universities that have rounded tuition equal to $45K."
   ]
  },
  {
   "cell_type": "code",
   "execution_count": null,
   "metadata": {},
   "outputs": [],
   "source": [
    "# Display Universities with tuition between 44500 and 45499\n"
   ]
  },
  {
   "cell_type": "markdown",
   "metadata": {},
   "source": [
    "**Question 3.** What is the average tuition of the schools in this list?"
   ]
  },
  {
   "cell_type": "code",
   "execution_count": null,
   "metadata": {},
   "outputs": [],
   "source": []
  },
  {
   "cell_type": "markdown",
   "metadata": {},
   "source": [
    "**Question 4.**  We are investigating here if smaller or larger colleges are cheaper. Find the average tuition for schools in these four groups: \n",
    "- enrollments smaller than 5,000 \n",
    "- 5,001-10,000\n",
    "- 10,001-30,000\n",
    "- larger than 30,000.   \n"
   ]
  },
  {
   "cell_type": "code",
   "execution_count": null,
   "metadata": {},
   "outputs": [],
   "source": []
  },
  {
   "cell_type": "markdown",
   "metadata": {},
   "source": [
    "**Question 5.** Based on these data, how much does a student pay tuition on average? Note that schools on this list with large enrollments affect more students; we ask you to find the average value of `tuition` with weights proportional to `enrollment`:\n",
    "\n",
    "$$ \\textrm {enrollment-weighted tuition} = {\\sum (\\textrm{enrollment} \\times \\textrm{tuition}) \\over \\sum \\textrm{enrollment}} $$\n",
    "\n",
    "For this question we need the schools that have complete data for tuition and enrollment. The data frame `new_df` contains that subset (see next cell). Use this data frame."
   ]
  },
  {
   "cell_type": "code",
   "execution_count": null,
   "metadata": {},
   "outputs": [],
   "source": [
    "# run this cell\n",
    "new_df = colleges_df.dropna(subset=['enrollment'])"
   ]
  },
  {
   "cell_type": "code",
   "execution_count": null,
   "metadata": {},
   "outputs": [],
   "source": []
  },
  {
   "cell_type": "markdown",
   "metadata": {},
   "source": [
    "**Question 6.**  Do the public schools on the list tend to have higher enrollments?\n",
    "Make a visualization to answer this question.  "
   ]
  },
  {
   "cell_type": "code",
   "execution_count": null,
   "metadata": {},
   "outputs": [],
   "source": []
  },
  {
   "cell_type": "markdown",
   "metadata": {},
   "source": [
    "## 3. Data frames (12 points)\n"
   ]
  },
  {
   "cell_type": "markdown",
   "metadata": {},
   "source": [
    "**Question 1.** Suppose you have 4 apples, 3 oranges, and 3 pineapples.  (Perhaps you're using Python to solve a high school Algebra problem.)  Create a data frame that contains this information.  It should have two columns: \"fruit name\" and \"count\".  Give it the name `fruits`.\n",
    "\n",
    "**Note:** Use lower-case and singular words for the name of each fruit, like `\"apple\"`."
   ]
  },
  {
   "cell_type": "code",
   "execution_count": null,
   "metadata": {},
   "outputs": [],
   "source": [
    "fruits = ...\n",
    "fruits"
   ]
  },
  {
   "cell_type": "markdown",
   "metadata": {},
   "source": [
    "**Question 2.** The file `inventory.csv` contains information about the inventory at a fruit stand.  Each row represents the contents of one box of fruit.  Load it as a data frame named `inventory`."
   ]
  },
  {
   "cell_type": "code",
   "execution_count": null,
   "metadata": {},
   "outputs": [],
   "source": [
    "inventory = ...\n",
    "inventory"
   ]
  },
  {
   "cell_type": "markdown",
   "metadata": {},
   "source": [
    "**Question 3.** The file `sales.csv` contains the number of fruit sold from each box last Saturday.  It has an extra column called \"price per fruit (\\$)\" that's the price *per item of fruit* for fruit in that box.  The rows are in the same order as the `inventory` data frame.  Load the file into a data frame called `sales`."
   ]
  },
  {
   "cell_type": "code",
   "execution_count": null,
   "metadata": {},
   "outputs": [],
   "source": [
    "sales = ...\n",
    "sales"
   ]
  },
  {
   "cell_type": "markdown",
   "metadata": {},
   "source": [
    "**Question 4.** How many fruits did the store sell in total on that day?"
   ]
  },
  {
   "cell_type": "code",
   "execution_count": null,
   "metadata": {},
   "outputs": [],
   "source": [
    "total_fruits_sold = ...\n",
    "total_fruits_sold"
   ]
  },
  {
   "cell_type": "markdown",
   "metadata": {},
   "source": [
    "**Question 5.** What was the store's total revenue (the total price of all fruits sold) on that day?\n",
    "\n",
    "*Hint:* If you're stuck, think first about how you would compute the total revenue from just the grape sales."
   ]
  },
  {
   "cell_type": "code",
   "execution_count": null,
   "metadata": {},
   "outputs": [],
   "source": [
    "total_revenue = \n",
    "total_revenue"
   ]
  },
  {
   "cell_type": "markdown",
   "metadata": {},
   "source": [
    "**Question 6.** Make a new data frame called `remaining_inventory`.  It should have the same rows and columns as `inventory`, except that the amount of fruit sold from each box should be subtracted from that box's count, so that the \"count\" is the amount of fruit remaining after Saturday."
   ]
  },
  {
   "cell_type": "code",
   "execution_count": null,
   "metadata": {},
   "outputs": [],
   "source": [
    "remaining_inventory = ...\n",
    "remaining_inventory"
   ]
  }
 ],
 "metadata": {
  "kernelspec": {
   "display_name": "Python 3 (ipykernel)",
   "language": "python",
   "name": "python3"
  },
  "language_info": {
   "codemirror_mode": {
    "name": "ipython",
    "version": 3
   },
   "file_extension": ".py",
   "mimetype": "text/x-python",
   "name": "python",
   "nbconvert_exporter": "python",
   "pygments_lexer": "ipython3",
   "version": "3.9.12"
  }
 },
 "nbformat": 4,
 "nbformat_minor": 4
}
