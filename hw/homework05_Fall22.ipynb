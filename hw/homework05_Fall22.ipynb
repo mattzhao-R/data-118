{
 "cells": [
  {
   "cell_type": "markdown",
   "metadata": {},
   "source": [
    "# DATA 11800  Fall 2022\n",
    "# Homework 5: Probability, Sampling and Joins (50 points)\n",
    "\n",
    "Please complete this notebook by filling in the cells provided. Before you begin, execute the following cell to load the needed functions. Each time you start your server, you will need to execute this cell again to load them. \n",
    "\n",
    "\n",
    "Homework 5 is due on **Thursday, November 3, at 9:00am**. Late work will not be accepted.  "
   ]
  },
  {
   "cell_type": "code",
   "execution_count": null,
   "metadata": {},
   "outputs": [],
   "source": [
    "# Don't change this cell; just run it. \n",
    "import numpy as np\n",
    "import pandas as pd\n",
    "import warnings\n",
    "warnings.simplefilter('ignore', FutureWarning)\n",
    "\n",
    "import matplotlib\n",
    "%matplotlib inline\n",
    "import matplotlib.pyplot as plt\n",
    "plt.style.use('fivethirtyeight')"
   ]
  },
  {
   "cell_type": "code",
   "execution_count": null,
   "metadata": {},
   "outputs": [],
   "source": [
    "# causes_of_death.csv.zip, abbreviations.csv, 311_Service_Requests_Jan2020.csv\n"
   ]
  },
  {
   "cell_type": "markdown",
   "metadata": {},
   "source": [
    "## 1. Roulette (12 points)\n",
    "\n",
    "\n",
    "Suppose you are a casino owner, and your casino runs a [roulette](https://en.wikipedia.org/wiki/Roulette) with 38 pockets: 18 red, 18 black and 2 green: the red and black pockets have numbers associated with them (from 1 to 36) and the green pockets are labeled 0 and 00. If a customer bets $\\$$10 on a particular number (for example, number 4), and the ball lands on that number, the customer wins $\\$$180 from the casino.  (The initial bet is returned in addition to the winning payout.)  Any other number causes the player to lose the bet (and the $\\$$10 wager).\n",
    "\n",
    "**Question 1.** Assuming no one is cheating and the roulette is fair,  if a customer plays twice and **bets on numbers**, what is the chance they make money?"
   ]
  },
  {
   "cell_type": "code",
   "execution_count": null,
   "metadata": {},
   "outputs": [],
   "source": [
    "# this question asks you to provide a number directly\n",
    "#p_gain_after_two_spins = ...\n"
   ]
  },
  {
   "cell_type": "markdown",
   "metadata": {},
   "source": [
    "A certain customer places 40 bets of $\\$$10 each on the roulette wheel, betting on single numbers each time, and wins 7 of the bets, winning $\\$$930. You suspect that the customer is cheating!  That is, you think that their chance of winning is much higher than the normal chance of winning.\n",
    "\n",
    "You decide to test your hunch by repeatedly simulating the outcome of 40 games on a fair roulette wheel and comaring to your customer's performance.\n",
    "\n",
    "**Question 2.** Write a function called `simulate`.  It should take as argument the number of games/spins.  It should return the number of wins in those games simulated under the assumption that the result of each game is sampled from a fair roulette and the bet is on a number."
   ]
  },
  {
   "cell_type": "code",
   "execution_count": null,
   "metadata": {},
   "outputs": [],
   "source": [
    "\n",
    "\n"
   ]
  },
  {
   "cell_type": "markdown",
   "metadata": {},
   "source": [
    "**Question 3.**  Using a 10,000 trial simulation, generate a histogram of the empirical distribution of the number of wins in 40 games (again, the bets are on numbers)."
   ]
  },
  {
   "cell_type": "code",
   "execution_count": null,
   "metadata": {},
   "outputs": [],
   "source": []
  },
  {
   "cell_type": "markdown",
   "metadata": {},
   "source": [
    "**Question 4.** In the cell below, calculate the proportion of simulations for which you get 7 wins or more. Do your simulations suggest that the customer is cheating?\n",
    "\n",
    "*Write your answer here, replacing this text.* "
   ]
  },
  {
   "cell_type": "code",
   "execution_count": null,
   "metadata": {},
   "outputs": [],
   "source": [
    "# calculation here\n",
    "\n"
   ]
  },
  {
   "cell_type": "markdown",
   "metadata": {},
   "source": [
    "**Question 5.**  Using a 10,000 trial simulation, generate a histogram of the empirical distribution of the net winnings/gain in 40 games (in each simulation of 40 games, you can calculate the net gain, which can be negative). Using the results of your 10,000 trial simulation, estimate the expected gain in 40 games."
   ]
  },
  {
   "cell_type": "code",
   "execution_count": null,
   "metadata": {},
   "outputs": [],
   "source": [
    "# code here\n"
   ]
  },
  {
   "cell_type": "markdown",
   "metadata": {},
   "source": [
    "## 2.  Sampling the 311 calls database (15 points)\n",
    "\n",
    "This database is a subset of the City of Chicago \"311 Service Requests\" dataset,  downloaded from the City of Chicago Data Portal.  It contains the logs of more than 152,000 calls to the City of Chicago non-emergency hotline in January 2020.  \n",
    "\n",
    "https://data.cityofchicago.org/Service-Requests/311-Service-Requests/v6vf-nfxy\n"
   ]
  },
  {
   "cell_type": "code",
   "execution_count": null,
   "metadata": {},
   "outputs": [],
   "source": [
    "calls = pd.read_csv(\"311_Service_Requests_Jan2020.csv\")\n",
    "print(calls.shape)\n",
    "calls.head()"
   ]
  },
  {
   "cell_type": "markdown",
   "metadata": {},
   "source": [
    "We are interested in knowing how many calls occur in a handful of categories.  Since some complaints are handled by enforcement personnel (Fly Dumping Complaint, Sanitation Code Violation) and some by maintenance crews (Sign Repair Request,Pothole in Street Complaint,  Tree Trim Request) we want to estimate the breakdown of the complaint volume.\n",
    "\n",
    "With 150,000 calls per month, we are hesitant to look at the entire database. We want to explore which of our questions can be answered using samples of the database. \n",
    "\n",
    "**Question 1.** Create a data frame called `calls1pct` that contains a sample of 1% of the rows of the `calls` data frame.  How many rows does your sample (data frame) have?"
   ]
  },
  {
   "cell_type": "code",
   "execution_count": null,
   "metadata": {},
   "outputs": [],
   "source": []
  },
  {
   "cell_type": "markdown",
   "metadata": {},
   "source": [
    "**Question 2** Using the sample you created, estimate the proportion of calls with SR_TYPE in the following categories:\n",
    "* Inaccurate Fuel Pump Complaint  \n",
    "* Ridesharing Complaint\n",
    "* Restaurant Complaint \n",
    "* Alley Light Out Complaint\n",
    "* Traffic Signal Out Complaint \n",
    "* Pavement Cave-In Inspection Request\n",
    "\n",
    "Using those estimated proportions, what is your prediction for the number of calls (in these categories) for the whole month."
   ]
  },
  {
   "cell_type": "code",
   "execution_count": null,
   "metadata": {},
   "outputs": [],
   "source": []
  },
  {
   "cell_type": "markdown",
   "metadata": {},
   "source": [
    "**Question 3**  Find the actual numbers of complaints in the above categories for the entire month and compare to the estimates from the 1/100 sample. Which categories were you able to estimate well, and which  categories are estimated poorly?"
   ]
  },
  {
   "cell_type": "code",
   "execution_count": null,
   "metadata": {},
   "outputs": [],
   "source": []
  },
  {
   "cell_type": "markdown",
   "metadata": {},
   "source": [
    "**Question 4.**  What is the largest category (of all the SR_TYPEs) that is present in the full dataset but is missing entirely from your sample? (In other words, of all the categories with 0 counts in your sample, which one has the largest number of rows in the dataset for the entire month?)"
   ]
  },
  {
   "cell_type": "code",
   "execution_count": null,
   "metadata": {},
   "outputs": [],
   "source": [
    "\n"
   ]
  },
  {
   "cell_type": "markdown",
   "metadata": {},
   "source": [
    "**Question 5**. What is the smallest nonzero number of counts for SR_TYPE categories in your sample?  How many categories have this count number?  How many rows do these categories have in the full dataset?"
   ]
  },
  {
   "cell_type": "code",
   "execution_count": null,
   "metadata": {
    "scrolled": true
   },
   "outputs": [],
   "source": []
  },
  {
   "cell_type": "code",
   "execution_count": null,
   "metadata": {},
   "outputs": [],
   "source": []
  },
  {
   "cell_type": "markdown",
   "metadata": {},
   "source": [
    "*Write your answer here, replacing this text.*"
   ]
  },
  {
   "cell_type": "markdown",
   "metadata": {},
   "source": [
    "## 3. Causes of Death by Year (23 points)\n"
   ]
  },
  {
   "cell_type": "markdown",
   "metadata": {},
   "source": [
    "This exercise is designed to give you practice working with dataframes `pivot_table()` and `merge()`. \n",
    "\n",
    "We'll be looking at a dataset from the California Department of Public Health that records the cause of death, as recorded on a death certificate, for everyone who died in California from 1999 to 2013.  The data is in the file `causes_of_death.csv.zip`. Each row records the number of deaths by a specific cause in one year in one ZIP code.\n",
    "\n",
    "To make the file smaller, we've compressed it; run the next cell to unzip and load it."
   ]
  },
  {
   "cell_type": "code",
   "execution_count": null,
   "metadata": {},
   "outputs": [],
   "source": [
    "!unzip -o causes_of_death.csv.zip\n",
    "causes = pd.read_csv('causes_of_death.csv')\n",
    "causes.head()"
   ]
  },
  {
   "cell_type": "markdown",
   "metadata": {},
   "source": [
    "**Question 1 (5 points)** Create a dataframe with two columns, one for Cause of Death and the other contaning a count of the total number of deaths in the dataset due to that cause.  Call the dataframe `cause_count`.\n",
    "\n",
    "*Hint 1:* If all of your causes have the exact same count, then you probably have done something wrong.\n",
    "\n",
    "*Hint 2:* You may need to use reset_index() to get a column named \"Cause of Death\" rather than it being the index."
   ]
  },
  {
   "cell_type": "code",
   "execution_count": null,
   "metadata": {},
   "outputs": [],
   "source": [
    "#replace the ...\n",
    "cause_count = ...\n",
    "cause_count"
   ]
  },
  {
   "cell_type": "markdown",
   "metadata": {},
   "source": [
    "The causes of death in the data are abbreviated.  We've provided a file called `abbreviations.csv` to decode the abbreviations."
   ]
  },
  {
   "cell_type": "code",
   "execution_count": null,
   "metadata": {},
   "outputs": [],
   "source": [
    "abbreviations = pd.read_csv('abbreviations.csv')\n",
    "abbreviations"
   ]
  },
  {
   "cell_type": "markdown",
   "metadata": {},
   "source": [
    "**Question 2. (5 points)** Use the `abbreviations` dataframe to create a dataframe called `full_cause_count` that has the same two columns as `cause_count`, but that has the cause abreviations replaced by their full names.  To get full credit, the two columns should appear in the same order and have the same names as in the original `cause_count` dataframe. "
   ]
  },
  {
   "cell_type": "code",
   "execution_count": null,
   "metadata": {},
   "outputs": [],
   "source": [
    "#You may need a few lines of code to do this in addition to replacing the ...\n",
    "full_cause_count = ...\n",
    "full_cause_count"
   ]
  },
  {
   "cell_type": "markdown",
   "metadata": {},
   "source": [
    "**Question 3.** Several of the causes in the abbreviations dataframe do not appear in `full_cause_count`.   Which ones are missing and why don't they appear in `full_cause_count` (even with, say, some sort of default value or `NaN` for `Count sum`)?"
   ]
  },
  {
   "cell_type": "markdown",
   "metadata": {},
   "source": [
    "*Write your answer here, replacing this text.*"
   ]
  },
  {
   "cell_type": "markdown",
   "metadata": {},
   "source": [
    "#### We wish to examine the changes in causes of death over time.  To make a plot of those numbers, we would like to have a dataframe with one row per year, and the information about all the causes of death for each year.\n",
    "\n",
    "**Question 4. (4 points)** Create a dataframe with **one row for each year** and **a column for each cause of death**, where each cell contains the number of deaths by that cause in that year. Call the dataframe `causes_by_year`.  *Note*: For this dataframe it is best to use the original `causes` dataframe (the one with abreviations) so that it fits on the screen."
   ]
  },
  {
   "cell_type": "code",
   "execution_count": null,
   "metadata": {},
   "outputs": [],
   "source": [
    "#The pivot_table function does this for you\n",
    "#fill in the ...\n",
    "causes_by_year = pd.pivot_table(...)\n",
    "causes_by_year\n"
   ]
  },
  {
   "cell_type": "markdown",
   "metadata": {},
   "source": [
    "**Question 5.** Looking at the `causes_by_year` dataframe, it appears that three of the causes have missing data in several years.   Create a new dataframe `cleaned_causes_by_year` that has these three columns removed.  Your result should have 12 columns (not counting the `Year` index)."
   ]
  },
  {
   "cell_type": "code",
   "execution_count": null,
   "metadata": {
    "scrolled": true
   },
   "outputs": [],
   "source": [
    "#replace the ...\n",
    "cleaned_causes_by_year = ...\n",
    "cleaned_causes_by_year"
   ]
  },
  {
   "cell_type": "markdown",
   "metadata": {},
   "source": [
    "**Question 6:**  Draw a line graph to display the numbers of deaths from Stroke (STK), Chronic Liver Desease (CLD), Heart Disease(HTD) and Cancer (CAN) over the 14 years covered by this dataset. **Briefly, what is happening with the death rates from these causes?**\n"
   ]
  },
  {
   "cell_type": "markdown",
   "metadata": {},
   "source": [
    "*Write your answer here, replacing this text.*"
   ]
  },
  {
   "cell_type": "code",
   "execution_count": null,
   "metadata": {
    "deletable": false,
    "export_pdf": true,
    "manual_problem_id": "causes_of_death_5"
   },
   "outputs": [],
   "source": []
  },
  {
   "cell_type": "code",
   "execution_count": null,
   "metadata": {},
   "outputs": [],
   "source": []
  }
 ],
 "metadata": {
  "kernelspec": {
   "display_name": "Python 3 (ipykernel)",
   "language": "python",
   "name": "python3"
  },
  "language_info": {
   "codemirror_mode": {
    "name": "ipython",
    "version": 3
   },
   "file_extension": ".py",
   "mimetype": "text/x-python",
   "name": "python",
   "nbconvert_exporter": "python",
   "pygments_lexer": "ipython3",
   "version": "3.9.12"
  }
 },
 "nbformat": 4,
 "nbformat_minor": 4
}
