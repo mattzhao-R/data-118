{
 "cells": [
  {
   "cell_type": "code",
   "execution_count": null,
   "id": "acdc5bdd-ba39-4a81-a527-816357a5abfa",
   "metadata": {},
   "outputs": [],
   "source": [
    "import numpy as np\n",
    "import matplotlib.pyplot as plt\n",
    "import scipy.stats\n",
    "import pandas as pd\n",
    "from scipy.stats import binom, norm, beta"
   ]
  },
  {
   "cell_type": "markdown",
   "id": "5a77a411-3528-458e-a848-6ba1547a614d",
   "metadata": {},
   "source": [
    "## Probability functions in python "
   ]
  },
  {
   "cell_type": "markdown",
   "id": "146721ff-331a-4c11-ab82-9575b1acc2d9",
   "metadata": {},
   "source": [
    "When we are generating random variates, we need to specify the parameters of the distribution\n",
    "When evaluating probability functions, we need both the parameters and the domain.\n",
    "\n",
    "The paramters are specific to the distribution:\n",
    "\n",
    "    Distribution ( parameter1, parameter2 ; x)\n",
    "    \n",
    "    Normal (mu, sigma; x )   sometimes called (loc, scale)\n",
    "    Binomial ( n, p; k  )  \n",
    "    Bernoulli ( p; x )\n",
    "    Beta ( a, b;  p ) "
   ]
  },
  {
   "cell_type": "markdown",
   "id": "079d799a-4ec9-4543-8649-86ef0bcb5b3e",
   "metadata": {},
   "source": [
    "What functions can we get? \n",
    "\n",
    "    pdf   Probability density function  - probability density for continuous domains\n",
    "    pmf   Probability mass function - probability density for discrete domains\n",
    "    cdf   Cumulative distribution funciton - cumsum of pmf or integral of pdf.\n",
    "    ppf   percentile (quantile) function; inverse of cumulative distribution function\n",
    "           (gives values as a function of cumulative probability beneath them)\n",
    "    sf    1 - cdf (sometimes helpful if cdf = 1 but 1-cdf = something smaller than 10^{-15}\n",
    "    rvs   generate random variables.  Don't need x or k, usually provide size.\n",
    "    "
   ]
  },
  {
   "cell_type": "code",
   "execution_count": null,
   "id": "55956e44-a2b9-4e57-a295-30928e65900b",
   "metadata": {},
   "outputs": [],
   "source": []
  },
  {
   "cell_type": "markdown",
   "id": "8e0a1240-2359-479c-a8f7-9cbea68ef18c",
   "metadata": {},
   "source": [
    "# Binomial\n",
    "\n"
   ]
  },
  {
   "cell_type": "markdown",
   "id": "352f3e45-cda2-4068-b8c7-09dc893ae2c9",
   "metadata": {},
   "source": [
    "Consider the binomial distribution with p = 1/38 and n = 4 (number of successes in four spins of the roulette wheel).\n"
   ]
  },
  {
   "cell_type": "code",
   "execution_count": null,
   "id": "2b336259-fc62-4b05-8270-1ea45ede0146",
   "metadata": {},
   "outputs": [],
   "source": [
    "roulette_sample = binom.rvs(p=1/38 , n=4, size=1000)\n",
    "roulette_sample"
   ]
  },
  {
   "cell_type": "code",
   "execution_count": null,
   "id": "271b9ada-7544-4fc6-abc3-a9cc2dcd9b15",
   "metadata": {},
   "outputs": [],
   "source": [
    "# And I have to look up how to get a histogram of a numpy array \n",
    "np.unique( roulette_sample, return_counts=True)"
   ]
  },
  {
   "cell_type": "code",
   "execution_count": null,
   "id": "4d98d34d-d198-42a8-b827-af43998fa945",
   "metadata": {},
   "outputs": [],
   "source": [
    "# or I can convert it to a dataframe and use value_counts()\n",
    "pd.DataFrame({\"wins\": roulette_sample} ) .value_counts()"
   ]
  },
  {
   "cell_type": "code",
   "execution_count": null,
   "id": "5eb3ee78-8d0d-41ab-b46a-b452369baa99",
   "metadata": {},
   "outputs": [],
   "source": [
    "# this is a sample.  What are the probaiblities?\n",
    "# What's the domain?"
   ]
  },
  {
   "cell_type": "code",
   "execution_count": null,
   "id": "ad3b8760-0336-412e-a418-f8dcb8c4255a",
   "metadata": {},
   "outputs": [],
   "source": [
    "krange5 = np.arange(0,5)"
   ]
  },
  {
   "cell_type": "code",
   "execution_count": null,
   "id": "24cc568e-2501-496f-82e1-8a62fc429310",
   "metadata": {},
   "outputs": [],
   "source": [
    "winprob = binom.pmf(k=krange5, p=1/38, n=4)"
   ]
  },
  {
   "cell_type": "code",
   "execution_count": null,
   "id": "70148633-327e-4025-a149-67b1f1801437",
   "metadata": {},
   "outputs": [],
   "source": [
    "plt.bar(krange5, winprob)\n",
    "plt.title(\"Binomial with p=1/38 and k=4\")\n",
    "plt.xlabel(\"Outcome, number of wins\")\n",
    "plt.ylabel(\"Probability\")"
   ]
  },
  {
   "cell_type": "code",
   "execution_count": null,
   "id": "b7151e6a-c078-462d-b118-3f9b79ac52ef",
   "metadata": {},
   "outputs": [],
   "source": [
    "# To answer questions involving inequalities, like \"at least 2 wins,\"\n",
    "# the cumulative sum of the above is useful."
   ]
  },
  {
   "cell_type": "code",
   "execution_count": null,
   "id": "7e868932-b5f9-4882-8615-14d7224ec982",
   "metadata": {},
   "outputs": [],
   "source": [
    "cumprob = binom.cdf(k=krange5, p=1/38, n=4)"
   ]
  },
  {
   "cell_type": "code",
   "execution_count": null,
   "id": "aa19ff1b-c735-4524-af70-84054280019a",
   "metadata": {},
   "outputs": [],
   "source": [
    "plt.bar(krange5, cumprob)\n",
    "plt.title(\"Binomial with p=1/38 and k=4\")\n",
    "plt.xlabel(\"Outcome, number of wins\")\n",
    "plt.ylabel(\"Cumulative probability\")"
   ]
  },
  {
   "cell_type": "code",
   "execution_count": null,
   "id": "e3cacd42-f17f-456b-ac06-e529cd7ec9e0",
   "metadata": {},
   "outputs": [],
   "source": [
    "plt.bar(krange5+0.5, 1-cumprob)\n",
    "plt.title(\"Binomial with p=1/38 and k=4\")\n",
    "plt.xlabel(\"Outcome, number of wins\")\n",
    "plt.ylabel(\"Cumulative probability\")"
   ]
  },
  {
   "cell_type": "code",
   "execution_count": null,
   "id": "6567d892-9cad-42fd-b567-701f3255e06e",
   "metadata": {},
   "outputs": [],
   "source": [
    "# The quantile function has a different domain; it's the inverse of cdf and\n",
    "# takes values between 0 and 1."
   ]
  },
  {
   "cell_type": "code",
   "execution_count": null,
   "id": "7543c0e6-4a83-4f49-882d-3d224c8ebdb2",
   "metadata": {},
   "outputs": [],
   "source": [
    "percentilerange = np.arange(0.001, 1, .001)"
   ]
  },
  {
   "cell_type": "code",
   "execution_count": null,
   "id": "9ddaeb27-35e7-420a-bd77-b91ed72c3673",
   "metadata": {},
   "outputs": [],
   "source": [
    "binoppf = binom.ppf(percentilerange, p=1/38, n=4)\n",
    "plt.plot(percentilerange, binoppf)\n",
    "plt.xlabel(\"Quantile\")\n",
    "plt.ylabel(\"Number of wins\")\n",
    "plt.title(\"Binomial(1/38, 4) quantile function\")"
   ]
  },
  {
   "cell_type": "code",
   "execution_count": null,
   "id": "0046d563-abbf-4de6-a01e-bf3680ad6daf",
   "metadata": {},
   "outputs": [],
   "source": [
    "# With three outcomes in play this looks a little weird.  Outcomes of three coin tosses?\n"
   ]
  },
  {
   "cell_type": "code",
   "execution_count": null,
   "id": "35a764b2-171f-49c0-914a-1de0d8ee2512",
   "metadata": {},
   "outputs": [],
   "source": []
  },
  {
   "cell_type": "code",
   "execution_count": null,
   "id": "ce284110-7125-446a-88ce-84d0b3b960c0",
   "metadata": {},
   "outputs": [],
   "source": []
  },
  {
   "cell_type": "code",
   "execution_count": null,
   "id": "56bfa148-c96d-4c3f-98e6-95ce74e2adce",
   "metadata": {},
   "outputs": [],
   "source": [
    "Consider the binomial distribution with  p = 0.512 and n = 3872 (number of baby\n",
    "boys born in 3872 births if sex ratio matches nationwide rate)"
   ]
  },
  {
   "cell_type": "code",
   "execution_count": null,
   "id": "d9e8d34b-1bc3-4bb4-8453-50901e63a71b",
   "metadata": {},
   "outputs": [],
   "source": [
    "binom_sample = binom.rvs(p=0.512, n=3872)\n",
    "binom_sample"
   ]
  },
  {
   "cell_type": "code",
   "execution_count": null,
   "id": "e371f95a-cfc2-4e85-b397-eda4a3124393",
   "metadata": {},
   "outputs": [],
   "source": [
    "binom_samples = binom.rvs(p=0.512, n=3872, size=10000)\n",
    "plt.hist(binom_samples, bins=90)\n",
    "plt.xlabel(\"number of boys out of 3872\")\n",
    "plt.title(\"10,000 Binomial variates with p=0.512, n=3872\")\n",
    "plt.title(\"Something is wrong with this histogram\")"
   ]
  },
  {
   "cell_type": "code",
   "execution_count": null,
   "id": "7c5fe55d-b538-478d-a75d-93e8756694e8",
   "metadata": {},
   "outputs": [],
   "source": [
    "# Exercise for student: fix the plotting problem above\n",
    "binom_samples = binom.rvs(p=0.512, n=3872, size=10000)\n",
    "plt.hist(binom_samples, bins=90)\n",
    "plt.xlabel(\"number of boys out of 3872\")\n",
    "plt.title(\"10,000 Binomial variates with p=0.512, n=3872\")\n",
    "plt.title(\"Something is wrong with this histogram\")\n"
   ]
  },
  {
   "cell_type": "code",
   "execution_count": null,
   "id": "712e119c-beed-40d2-85bb-72472e10acef",
   "metadata": {},
   "outputs": [],
   "source": [
    "# What's the domain of binomial distribution?  "
   ]
  },
  {
   "cell_type": "code",
   "execution_count": null,
   "id": "95e24d89-f5f1-4ff9-832d-964b5220ab7a",
   "metadata": {},
   "outputs": [],
   "source": [
    "# Why is this ragged?"
   ]
  },
  {
   "cell_type": "code",
   "execution_count": null,
   "id": "ceb45950-ad9a-4d5c-acd5-89530a112165",
   "metadata": {},
   "outputs": [],
   "source": [
    "krange = np.arange(1800, 2200)\n",
    "pbinom = binom.pmf(krange, p=0.512, n=3872)\n",
    "plt.bar(krange, pbinom)"
   ]
  },
  {
   "cell_type": "code",
   "execution_count": null,
   "id": "0ab65f3b-7043-49a7-a7af-87e3a105a98d",
   "metadata": {},
   "outputs": [],
   "source": [
    "# Note there is no randomness here; these are calculations of the probabilities.\n"
   ]
  },
  {
   "cell_type": "code",
   "execution_count": null,
   "id": "bb920f09-bd7e-4747-8dc7-747033839357",
   "metadata": {},
   "outputs": [],
   "source": [
    "# Unit normal"
   ]
  },
  {
   "cell_type": "code",
   "execution_count": null,
   "id": "0c0d2d9f-9a42-48d3-98e6-07f4de5eb2d6",
   "metadata": {},
   "outputs": [],
   "source": [
    "randomnormalvariates = norm.rvs(size=1000)\n",
    "plt.hist(randomnormalvariates, bins=100)\n",
    "plt.xlabel(\"Value\")\n",
    "plt.ylabel(\"number of occurrences\")\n",
    "plt.title(\"1000 random normal variates\")"
   ]
  },
  {
   "cell_type": "code",
   "execution_count": null,
   "id": "ccd69d8f-3046-4c29-a42c-c9a0da6808d5",
   "metadata": {},
   "outputs": [],
   "source": [
    "Why does this histogram look ragged?? "
   ]
  },
  {
   "cell_type": "code",
   "execution_count": null,
   "id": "8fd7e535-5ed2-4799-abc4-137372356cd6",
   "metadata": {},
   "outputs": [],
   "source": [
    "# domain for normal ?? "
   ]
  },
  {
   "cell_type": "code",
   "execution_count": null,
   "id": "211163f2-2a12-4841-99d2-5f8493dfa0d2",
   "metadata": {},
   "outputs": [],
   "source": [
    "x = np.arange(-4, 4, .01)"
   ]
  },
  {
   "cell_type": "code",
   "execution_count": null,
   "id": "05108d27-af46-4b90-a0cb-fea0f584c954",
   "metadata": {},
   "outputs": [],
   "source": [
    "normaldensity = norm.pdf(x) "
   ]
  },
  {
   "cell_type": "code",
   "execution_count": null,
   "id": "1a49aae0-4e84-4c95-8f68-1ae73a88b8b2",
   "metadata": {},
   "outputs": [],
   "source": [
    "plt.plot(x,normaldensity)\n",
    "plt.title(\"Probabilty density of standard normal\")\n",
    "plt.savefig(\"NORM1.png\", dpi=300)"
   ]
  },
  {
   "cell_type": "code",
   "execution_count": null,
   "id": "3b066e3e-c0b0-45fa-b07f-0abec5b669eb",
   "metadata": {},
   "outputs": [],
   "source": [
    "normalcdf = norm.cdf(x)"
   ]
  },
  {
   "cell_type": "code",
   "execution_count": null,
   "id": "1ed05d4f-9436-4070-bcb3-ce94192929ed",
   "metadata": {},
   "outputs": [],
   "source": [
    "# PREDICT: what will this look like? "
   ]
  },
  {
   "cell_type": "code",
   "execution_count": null,
   "id": "d1d389a0-976c-4117-815d-cc674fd81e16",
   "metadata": {},
   "outputs": [],
   "source": [
    "plt.plot(x,normalcdf)\n",
    "plt.title(\"Cumulative probability of standard normal\")\n",
    "plt.xlabel(\"value\")\n",
    "plt.ylabel(\"cumulative probability\")\n",
    "# A very slightly modified version of this curve goes by the name \"the standard error function\"\n",
    "plt.savefig(\"NORM2.png\", dpi=300)"
   ]
  },
  {
   "cell_type": "code",
   "execution_count": null,
   "id": "95979974-ab4a-47ee-8604-cadc40b62272",
   "metadata": {},
   "outputs": [],
   "source": [
    "# INVERSE cumulative normal.  The domain and range will be reversed.  What do I\n",
    "# need for the domain of this function?"
   ]
  },
  {
   "cell_type": "code",
   "execution_count": null,
   "id": "569d692c-e672-4640-83d8-0cd0cff93e02",
   "metadata": {},
   "outputs": [],
   "source": [
    "normalppf = norm.ppf(percentilerange)\n",
    "plt.plot(percentilerange, normalppf)\n",
    "plt.xlabel(\"Quantile (cumulative probability)\")\n",
    "plt.ylabel(\"normal random value\")\n",
    "plt.savefig(\"NORM3.png\", dpi=300)"
   ]
  },
  {
   "cell_type": "code",
   "execution_count": null,
   "id": "dda8b47d-e1f4-4268-8617-2b82807c83e7",
   "metadata": {},
   "outputs": [],
   "source": []
  },
  {
   "cell_type": "code",
   "execution_count": null,
   "id": "d19d0298-39fb-4d60-93d6-99ff678d92df",
   "metadata": {},
   "outputs": [],
   "source": [
    "betaposterior = beta.pdf(percentilerange,a=3, b=6, )"
   ]
  },
  {
   "cell_type": "code",
   "execution_count": null,
   "id": "366e5193-42bc-488f-b935-690281321ae3",
   "metadata": {},
   "outputs": [],
   "source": [
    "plt.plot(percentilerange, betaposterior)"
   ]
  },
  {
   "cell_type": "code",
   "execution_count": null,
   "id": "b79ce118-e9c5-40ab-b66a-2ddd34a0bcb1",
   "metadata": {},
   "outputs": [],
   "source": [
    "# But wait, the reason I jumped into this wasn't just to plot PDF - CDF - ICDF\n",
    "# I wanted to calculate confidence intervals. "
   ]
  },
  {
   "cell_type": "code",
   "execution_count": null,
   "id": "16848367-3a0c-4fbc-9ed2-33050b1eb52e",
   "metadata": {},
   "outputs": [],
   "source": [
    "# For 95% confidence bounds, need to evaluate icdf at \n",
    "#    (1-95%)/2 and  1- (1-95%) /2 \n",
    "print(\"Confidence bounds (z-scores) for the standard normal distribution\")\n",
    "norm.ppf(.025 , loc=0, scale=1), norm.ppf(.975, loc=0, scale=1)"
   ]
  },
  {
   "cell_type": "code",
   "execution_count": null,
   "id": "2e647342-b4a4-4850-92df-1b6f51c90c7f",
   "metadata": {},
   "outputs": [],
   "source": [
    "values = np.arange(-4, 5)\n",
    "for v in values:\n",
    "    print (v, min (norm.cdf(v), 1-norm.cdf(v)))"
   ]
  },
  {
   "cell_type": "code",
   "execution_count": null,
   "id": "7b3779cf-3782-46af-bdb9-582c421d5ac4",
   "metadata": {},
   "outputs": [],
   "source": [
    "# How do I change this to report \\int N  from -1 to 1, \\int N() from -2 to 2... ?"
   ]
  },
  {
   "cell_type": "code",
   "execution_count": null,
   "id": "4bc7fe37-7a46-462a-80c9-8a055c8f231d",
   "metadata": {},
   "outputs": [],
   "source": [
    "for v in range(1,5):\n",
    "    print(v)"
   ]
  },
  {
   "cell_type": "code",
   "execution_count": null,
   "id": "9d3b1636-c83d-43cf-ac0c-2297a6c591e2",
   "metadata": {},
   "outputs": [],
   "source": []
  }
 ],
 "metadata": {
  "kernelspec": {
   "display_name": "Python 3 (ipykernel)",
   "language": "python",
   "name": "python3"
  },
  "language_info": {
   "codemirror_mode": {
    "name": "ipython",
    "version": 3
   },
   "file_extension": ".py",
   "mimetype": "text/x-python",
   "name": "python",
   "nbconvert_exporter": "python",
   "pygments_lexer": "ipython3",
   "version": "3.9.12"
  }
 },
 "nbformat": 4,
 "nbformat_minor": 5
}
