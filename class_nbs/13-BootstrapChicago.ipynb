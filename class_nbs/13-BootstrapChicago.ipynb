{
 "cells": [
  {
   "cell_type": "markdown",
   "id": "dfeb9c5f-234a-448d-85ae-c81218335d9d",
   "metadata": {},
   "source": [
    "## Bootstrapping Chicago Salary Database \n"
   ]
  },
  {
   "cell_type": "code",
   "execution_count": null,
   "id": "3fb15213-1a10-477c-89c6-a0c637cd7897",
   "metadata": {},
   "outputs": [],
   "source": [
    "import numpy as np\n",
    "import pandas as pd\n",
    "\n",
    "%matplotlib inline\n",
    "import matplotlib.pyplot as plt\n",
    "plt.style.use('fivethirtyeight')\n",
    "import warnings"
   ]
  },
  {
   "cell_type": "code",
   "execution_count": null,
   "id": "665929e4-77e0-40b6-a946-b4200759615a",
   "metadata": {},
   "outputs": [],
   "source": []
  },
  {
   "cell_type": "code",
   "execution_count": null,
   "id": "c3aa5b1e-ecd9-412c-b556-7604ec7778bc",
   "metadata": {},
   "outputs": [],
   "source": [
    "chicago_df = pd.read_csv('ChicagoSalary.csv')\n"
   ]
  },
  {
   "cell_type": "code",
   "execution_count": null,
   "id": "c50c3067-db4d-4572-98ae-937db6d1b0cc",
   "metadata": {},
   "outputs": [],
   "source": [
    "np.sum(chicago_df[\"Annual.Salary\"] > 0)"
   ]
  },
  {
   "cell_type": "code",
   "execution_count": null,
   "id": "9134f1b3-9de8-463e-adaf-4ef619674beb",
   "metadata": {},
   "outputs": [],
   "source": [
    "# I am going to take one sample of size 100 \n",
    "# and I'm going to elevate it to exalted \n",
    "# status as \"the sample.\"\n",
    "\n",
    "thesample = chicago_df.sample(100, random_state=1)"
   ]
  },
  {
   "cell_type": "code",
   "execution_count": null,
   "id": "e3807fb6-ee05-4be2-a1d3-fa2fcb661a33",
   "metadata": {},
   "outputs": [],
   "source": [
    "# Histogram of empirical distributions of our\n",
    "# sample of 100\n",
    "\n",
    "thesample.hist('Annual.Salary', bins = 18);"
   ]
  },
  {
   "cell_type": "code",
   "execution_count": null,
   "id": "5582391e-c80d-4588-8ad1-9d87e0f2b97d",
   "metadata": {},
   "outputs": [],
   "source": [
    "nsim=100\n",
    "means = []\n",
    "for i in range(nsim):\n",
    "    means.append(np.mean(thesample.sample(100, replace=True)[\"Annual.Salary\"]))"
   ]
  },
  {
   "cell_type": "code",
   "execution_count": null,
   "id": "302289a6-2288-4196-8056-b7118cdd1350",
   "metadata": {},
   "outputs": [],
   "source": [
    "plt.hist(means)"
   ]
  },
  {
   "cell_type": "code",
   "execution_count": null,
   "id": "1d1dcb83-f2e0-4602-8ec6-7815c511888b",
   "metadata": {},
   "outputs": [],
   "source": [
    "nsim=10000\n",
    "means = []\n",
    "for i in range(nsim):\n",
    "    means.append(np.mean(thesample.sample(100, replace=True)[\"Annual.Salary\"]))\n"
   ]
  },
  {
   "cell_type": "code",
   "execution_count": null,
   "id": "c6ac63ff-4d56-4717-a180-a042c8b39fae",
   "metadata": {},
   "outputs": [],
   "source": [
    "plt.hist(np.array(means)/1000, bins=100)\n",
    "plt.scatter(np.mean(thesample[\"Annual.Salary\"])/1000, 10, c='red')\n",
    "plt.title(\"Means of 10,000 bootstrap samples (n=100) \\n from the Chicago Salary database\")\n",
    "plt.xlabel(\"Salary, thousands of dollars\")"
   ]
  },
  {
   "cell_type": "markdown",
   "id": "c15b25cd-9230-4106-8eca-98390624d3f1",
   "metadata": {},
   "source": [
    "Take note, that red dot is the mean of my n=100 sample.\n",
    "My n=100 sample that might have been unlucky.\n",
    "\n",
    "I am desperate to understand how my one n=100 sample generalizes.\n",
    "\n",
    "The set of 10,000 mangled (by n=100 sampling with replacement) \n",
    "resamples of my golden sample are all slightly different.\n",
    "\n",
    "The difference between my entire sample and the mean \n",
    "is like the difference between the entire sample and the\n",
    "resamples.\n",
    "\n",
    "Why?  The resamples have the same mean and variance as\n",
    "the \"big\" sample, and are of the same size (!!!)"
   ]
  },
  {
   "cell_type": "code",
   "execution_count": null,
   "id": "ec075fb4-e03b-4d94-ad64-675699e7d76e",
   "metadata": {},
   "outputs": [],
   "source": [
    "plt.hist(np.array(means)/1000, bins=100)\n",
    "plt.scatter(np.mean(thesample[\"Annual.Salary\"])/1000, 10, c='red', label=\"Sample mean (n=100)\")\n",
    "plt.scatter(np.mean(chicago_df[\"Annual.Salary\"])/1000, 10, c='purple', label=\"Population mean (n=25159)\")\n",
    "\n",
    "plt.title(\"Means of 10,000 bootstrap samples (n=100) \\n from the Chicago Salary database\")\n",
    "plt.xlabel(\"Salary, thousands of dollars\")"
   ]
  },
  {
   "cell_type": "code",
   "execution_count": null,
   "id": "1fb88e2a-7800-49be-8cb5-69e8c58e0aae",
   "metadata": {},
   "outputs": [],
   "source": []
  }
 ],
 "metadata": {
  "kernelspec": {
   "display_name": "Python 3 (ipykernel)",
   "language": "python",
   "name": "python3"
  },
  "language_info": {
   "codemirror_mode": {
    "name": "ipython",
    "version": 3
   },
   "file_extension": ".py",
   "mimetype": "text/x-python",
   "name": "python",
   "nbconvert_exporter": "python",
   "pygments_lexer": "ipython3",
   "version": "3.9.12"
  }
 },
 "nbformat": 4,
 "nbformat_minor": 5
}
