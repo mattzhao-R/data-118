{
 "cells": [
  {
   "cell_type": "code",
   "execution_count": null,
   "metadata": {},
   "outputs": [],
   "source": [
    "import numpy as np\n",
    "import pandas as pd\n",
    "\n",
    "%matplotlib inline\n",
    "import matplotlib.pyplot as plots\n",
    "plots.style.use('fivethirtyeight')\n",
    "import warnings\n",
    "warnings.simplefilter('ignore', FutureWarning)"
   ]
  },
  {
   "cell_type": "markdown",
   "metadata": {},
   "source": [
    "## The birthday problem \n",
    "\n",
    "Given a number of people, **n**, in a room, what is the probability that at least two share a birthday?\n",
    "\n",
    "Assumptions for the simplest case (**discuss**):\n",
    "\n",
    "a. 365 days in a year.\n",
    "\n",
    "b. All days are equally likely.\n",
    "\n",
    "c. Subjects have independent birthdays.\n",
    "\n",
    "<br>\n",
    "\n",
    "We showed that, for $2\\leq n\\leq 365$, the probability is equal to \n",
    "\n",
    "$$P(n)=1-\\frac{365}{365}\\times\\frac{364}{365}\\times\\frac{363}{365}\\times ...\\times \\frac{(365-n+1)}{365}=\n",
    "1-\\frac{365\\times364\\times ...\\times (365-n+1)}{365^n}$$\n",
    "\n",
    "We first calculate these probabilities for a range of n's. Which formula should we use?"
   ]
  },
  {
   "cell_type": "code",
   "execution_count": null,
   "metadata": {},
   "outputs": [],
   "source": [
    "# n=50\n",
    "# how many digits?\n",
    "365**50"
   ]
  },
  {
   "cell_type": "code",
   "execution_count": null,
   "metadata": {},
   "outputs": [],
   "source": [
    "# recall the arange function in numpy - we'll use it below\n",
    "np.arange(10)"
   ]
  },
  {
   "cell_type": "code",
   "execution_count": null,
   "metadata": {},
   "outputs": [],
   "source": [
    "# a function that calculates the probability for 1<n<365\n",
    "def birthday_prob(n):\n",
    "    \"\"\"Calculates the probability that at least 2 people out of n have the same birthday\"\"\"\n",
    "    prob=1\n",
    "    for i in np.arange(n):\n",
    "        prob = prob * (365-i)/365\n",
    "    return 1-prob\n"
   ]
  },
  {
   "cell_type": "code",
   "execution_count": null,
   "metadata": {},
   "outputs": [],
   "source": [
    "birthday_prob(50)"
   ]
  },
  {
   "cell_type": "code",
   "execution_count": null,
   "metadata": {},
   "outputs": [],
   "source": [
    "# Construct a data frame with the probabilities for a range of n's\n",
    "number_people=np.arange(2,101,1)\n",
    "probs= np.array([]) # an empty array\n",
    "for i in number_people: probs= np.append(probs,birthday_prob(i))\n",
    "\n",
    "Birthday_df=pd.DataFrame(\n",
    "    {\"Number of people\":number_people,\n",
    "     \"Probability\":probs})\n",
    "Birthday_df"
   ]
  },
  {
   "cell_type": "code",
   "execution_count": null,
   "metadata": {},
   "outputs": [],
   "source": [
    "Birthday_df.plot(\"Number of people\",\"Probability\")"
   ]
  },
  {
   "cell_type": "code",
   "execution_count": null,
   "metadata": {},
   "outputs": [],
   "source": [
    "# Restricting the range for better visualization\n",
    "Birthday_df[Birthday_df[\"Number of people\"]<60].plot(\"Number of people\",\"Probability\")"
   ]
  },
  {
   "cell_type": "markdown",
   "metadata": {},
   "source": [
    "Are the above probabilities surprising? Can you provide an intuition for them?\n",
    "\n",
    "\n",
    "## A computational (simulation based) solution to the birthday problem\n",
    "\n",
    "**Simulation goal: use the computer to mimic a physical experiment.**\n",
    "\n",
    "Steps in a simulation:\n",
    "- What to simulate;\n",
    "- Simulate one instance;\n",
    "- Decide on the number of repetitions;\n",
    "- Code and summarize the results of simulations.\n",
    "\n",
    "Two important issues:\n",
    "- Simulations will give us an estimate/approximation of the probability we are interested in; more repetitions, better the approximation.\n",
    "- The number of repetitions is important and strategies for selecting them will be discussed in more detail later in the course when we talk about the binomial distribution.\n",
    "\n",
    "### Before starting to program (or reading/running the code below), think about a plan for how to simulate \n"
   ]
  },
  {
   "cell_type": "code",
   "execution_count": null,
   "metadata": {
    "scrolled": false
   },
   "outputs": [],
   "source": [
    "# one simulation\n",
    "birthdays=np.arange(1,366,1)\n",
    "n=50\n",
    "one_run=np.random.choice(birthdays,n)\n",
    "one_run"
   ]
  },
  {
   "cell_type": "code",
   "execution_count": null,
   "metadata": {},
   "outputs": [],
   "source": [
    "# Are there dupicates?\n",
    "# numpy has built-in sorting function\n",
    "np.sort(one_run)"
   ]
  },
  {
   "cell_type": "markdown",
   "metadata": {},
   "source": [
    "I need a function that will give me the number of occurences of the most frequent day. There are many ways to do it:\n",
    "-  use the `Counter` function we saw in Lecture 2\n",
    "-  numpy has a useful function called `bincount`\n",
    "-  write your own function - how would you do it?\n",
    "\n",
    "We will use `bincount`"
   ]
  },
  {
   "cell_type": "code",
   "execution_count": null,
   "metadata": {},
   "outputs": [],
   "source": [
    "# a reminder on how to use Counter (might skip in class)\n",
    "from collections import Counter\n",
    "Counter([2,2,2,1,7])"
   ]
  },
  {
   "cell_type": "code",
   "execution_count": null,
   "metadata": {
    "scrolled": true
   },
   "outputs": [],
   "source": [
    "Counter(one_run)"
   ]
  },
  {
   "cell_type": "code",
   "execution_count": null,
   "metadata": {},
   "outputs": [],
   "source": [
    "Counter([2,2,2,1,7]).most_common(1)"
   ]
  },
  {
   "cell_type": "code",
   "execution_count": null,
   "metadata": {},
   "outputs": [],
   "source": [
    "Counter([2,2,2,1,7]).most_common(1)[0][1]"
   ]
  },
  {
   "cell_type": "code",
   "execution_count": null,
   "metadata": {},
   "outputs": [],
   "source": [
    "# the function bincount provides counts for all integers from 0 to the largest\n",
    "np.bincount([2,2,2,1,7])"
   ]
  },
  {
   "cell_type": "code",
   "execution_count": null,
   "metadata": {},
   "outputs": [],
   "source": [
    "np.max(np.bincount([2,2,2,1,7]))"
   ]
  },
  {
   "cell_type": "code",
   "execution_count": null,
   "metadata": {},
   "outputs": [],
   "source": [
    "# we now create a function that will simulate nsim simulations of the \n",
    "# birthday problem for n subjects\n",
    "def birthday_sim(n,nsim):\n",
    "    outcomes = np.array([])\n",
    "    for i in np.arange(nsim):\n",
    "        outcomes = np.append(outcomes, np.max(np.bincount(np.random.choice(birthdays,n))))\n",
    "    return outcomes\n"
   ]
  },
  {
   "cell_type": "code",
   "execution_count": null,
   "metadata": {
    "scrolled": true
   },
   "outputs": [],
   "source": [
    "birthday_sim(23,100)"
   ]
  },
  {
   "cell_type": "code",
   "execution_count": null,
   "metadata": {},
   "outputs": [],
   "source": [
    "# calculate the probability; how many simulations should we run?\n",
    "n=23\n",
    "nsim=1000\n",
    "sum(birthday_sim(n,nsim)>1)/nsim"
   ]
  },
  {
   "cell_type": "markdown",
   "metadata": {},
   "source": [
    "\n",
    "# Classroom discussion\n",
    "\n",
    "We introduced a simple example where we can solve a problem analytically/mathematically and computationally (using simulations).\n",
    "\n",
    "**Questions:**\n",
    "- Are the assumptions made in the simulations we run the same or different than the ones we made in the derivation?\n",
    "- Give other examples of problems (in science, finance etc.) that can be approached using both mathematics and computation. If you do not know any, give examples of problems where simulations or mathematics play an important role.\n",
    "- What are the advantages and disadvantages of using mathematical approaches? What are the advantages and disadvantages of using computational approaches (simulations)?\n",
    "\n",
    "<br>\n",
    "<br>\n"
   ]
  },
  {
   "cell_type": "markdown",
   "metadata": {},
   "source": [
    "## Mathematical derivation versus computational (simulation-based) estimation\n",
    "\n",
    "\n",
    "**The triplet birthday problem:** Given a number of people in a room, what is the probability that at least three share a birthday?\n",
    "\n",
    "Assumptions same as before:\n",
    "\n",
    "a. 365 days in a year.\n",
    "\n",
    "b. All days are equally likely.\n",
    "\n",
    "c. Subjects have independent birthdays.\n",
    "\n",
    "Can you derive an exact formula for this probability?\n"
   ]
  },
  {
   "cell_type": "code",
   "execution_count": null,
   "metadata": {},
   "outputs": [],
   "source": [
    "# We can answer the \"triplets\" question as easily\n",
    "nsim=1000\n",
    "number_people=np.arange(3,50,1)\n",
    "probs3= np.array([])\n",
    "for i in number_people: probs3= np.append(probs3,sum(birthday_sim(i,nsim)>2)/nsim)\n",
    "\n",
    "Birthday3_df=pd.DataFrame(\n",
    "    {\"Number of people\":number_people,\n",
    "     \"Triplet Probability\":probs3})\n",
    "Birthday3_df\n"
   ]
  },
  {
   "cell_type": "code",
   "execution_count": null,
   "metadata": {
    "scrolled": true
   },
   "outputs": [],
   "source": [
    "Birthday3_df.plot(\"Number of people\",\"Triplet Probability\")"
   ]
  },
  {
   "cell_type": "markdown",
   "metadata": {},
   "source": [
    "If you want to obtain a smoother curve (reflecting a more accurate estimation of probabilities) you need to increase the number of simulations. Play with the code and see how the number of simulations affects the smoothness of the function!"
   ]
  },
  {
   "cell_type": "code",
   "execution_count": null,
   "metadata": {},
   "outputs": [],
   "source": [
    "n=87\n",
    "nsim=10000\n",
    "sum(birthday_sim(n,nsim)>2)/nsim"
   ]
  },
  {
   "cell_type": "markdown",
   "metadata": {},
   "source": [
    "## Can we calculate these probabilities more accurately?\n",
    "\n",
    "Note that not all days of the year are equally likely to be birthdays. Born in September?\n",
    "\n",
    "http://thedailyviz.com/2016/09/17/how-common-is-your-birthday-dailyviz/\n",
    "\n",
    "The visualization in the link above is based on a dataset from FiveThirtyEight github:\n",
    "\n",
    "https://github.com/fivethirtyeight/data/tree/master/births\n",
    "\n",
    "Note that in the folowing dataset, the variable for day of week is coded 1 for Monday and 7 for Sunday.\n"
   ]
  },
  {
   "cell_type": "code",
   "execution_count": null,
   "metadata": {},
   "outputs": [],
   "source": [
    "birth_data=pd.read_csv(\"US_births_2000-2014_SSA.csv\")\n",
    "print(birth_data.shape)\n",
    "birth_data.head(10)"
   ]
  },
  {
   "cell_type": "markdown",
   "metadata": {},
   "source": [
    "**Some interesting observations from the data**\n",
    "\n",
    "The pandas environment has commands that allow you to group rows by unique values in a column. We used it before and we will use it below. You will learn more about it in Lecture 10 (groups, joins, database operations)."
   ]
  },
  {
   "cell_type": "code",
   "execution_count": null,
   "metadata": {
    "scrolled": true
   },
   "outputs": [],
   "source": [
    "# not surprising (and also not relevant for our calculation) day of the week matters\n",
    "birth_data.groupby('day_of_week').sum()[['births']]"
   ]
  },
  {
   "cell_type": "code",
   "execution_count": null,
   "metadata": {
    "scrolled": true
   },
   "outputs": [],
   "source": [
    "# another irrelevant (but fun) data grouping: is 13th avoided? \n",
    "birth_data.groupby('date_of_month').sum()[['births']]"
   ]
  },
  {
   "cell_type": "code",
   "execution_count": null,
   "metadata": {},
   "outputs": [],
   "source": [
    "counts_df=birth_data.groupby(['month','date_of_month']).sum()[['births']]\n",
    "counts_df.head(10)"
   ]
  },
  {
   "cell_type": "code",
   "execution_count": null,
   "metadata": {
    "scrolled": true
   },
   "outputs": [],
   "source": [
    "# the default histogram from Table is not very informative\n",
    "counts_df.hist(\"births\");"
   ]
  },
  {
   "cell_type": "code",
   "execution_count": null,
   "metadata": {},
   "outputs": [],
   "source": [
    "counts_df.hist(\"births\",bins = np.arange(116000, 195000, 2000));"
   ]
  },
  {
   "cell_type": "code",
   "execution_count": null,
   "metadata": {},
   "outputs": [],
   "source": [
    "# the inferred probabilities of each day of the year \n",
    "day_probs=counts_df.births/sum(counts_df.births)\n",
    "# January probabilities\n",
    "day_probs[:31]"
   ]
  },
  {
   "cell_type": "code",
   "execution_count": null,
   "metadata": {},
   "outputs": [],
   "source": [
    "# we can draw with specified probabilities\n",
    "np.random.choice([\"H\",\"T\"],10,p=[0.8,0.2])"
   ]
  },
  {
   "cell_type": "code",
   "execution_count": null,
   "metadata": {},
   "outputs": [],
   "source": [
    "# add February 29 - the number of possible birthdays is now 366\n",
    "birthdays2=np.arange(1,367,1)\n",
    "\n",
    "# we now create a function that will simulate nsim simulations of the \n",
    "# birthday problem for n subjects with days weighted by their probabilities\n",
    "def birthday_sim2(n,nsim,pr):\n",
    "    outcomes = np.array([])\n",
    "    for i in np.arange(nsim):\n",
    "        outcomes = np.append(outcomes, np.max(np.bincount(np.random.choice(birthdays2,n,p=pr))))\n",
    "    return outcomes"
   ]
  },
  {
   "cell_type": "code",
   "execution_count": null,
   "metadata": {},
   "outputs": [],
   "source": [
    "# calculate the probability for n=23 \n",
    "# before running the code below: do you think it is smaller or bigger than 0.5073 (the one we calculated above)\n",
    "n=23\n",
    "nsim=100000\n",
    "sum(birthday_sim2(n,nsim,day_probs)>1)/nsim"
   ]
  },
  {
   "cell_type": "markdown",
   "metadata": {},
   "source": [
    "### Some conclusions:\n",
    "- In some situations math offers the best path (for example, lottery winning probabilities); \n",
    "    - for example, in Mega Millions players pick six numbers from two separate pools of numbers - five different numbers from 1 to 70, and one number from 1 to 25. Probability of winning?\n",
    "- In some situations, exact calculations are very difficult (triplet birthdays);\n",
    "- Often, it is easy to modify simulations to account for changed assumptions (for example, all days equally likely, leap years);\n",
    "- More accurate calculations or simulations do not always lead to different results - but we might not know that before doing them.\n",
    "\n",
    "Final note on the triplet problem - this is a reference for the exact calculation (for math majors):\n",
    "https://www.sciencedirect.com/science/article/pii/S0378375804002721\n"
   ]
  },
  {
   "cell_type": "code",
   "execution_count": null,
   "metadata": {},
   "outputs": [],
   "source": [
    "# in case we need factorials for board calculations\n",
    "from math import factorial\n",
    "factorial(70)"
   ]
  },
  {
   "cell_type": "code",
   "execution_count": null,
   "metadata": {},
   "outputs": [],
   "source": []
  }
 ],
 "metadata": {
  "kernelspec": {
   "display_name": "Python 3",
   "language": "python",
   "name": "python3"
  },
  "language_info": {
   "codemirror_mode": {
    "name": "ipython",
    "version": 3
   },
   "file_extension": ".py",
   "mimetype": "text/x-python",
   "name": "python",
   "nbconvert_exporter": "python",
   "pygments_lexer": "ipython3",
   "version": "3.6.5"
  }
 },
 "nbformat": 4,
 "nbformat_minor": 2
}
