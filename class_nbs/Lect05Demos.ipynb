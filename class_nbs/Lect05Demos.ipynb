{
 "cells": [
  {
   "cell_type": "code",
   "execution_count": 3,
   "metadata": {},
   "outputs": [],
   "source": [
    "import numpy as np\n",
    "import pandas as pd\n",
    "from decimal import *\n",
    "\n",
    "#tell matplotlib to show charts in the notebook (rather than in a separate window)\n",
    "%matplotlib inline\n",
    "import matplotlib.pyplot as plt\n",
    "plt.style.use('fivethirtyeight')"
   ]
  },
  {
   "cell_type": "markdown",
   "metadata": {},
   "source": [
    "# CS/Stat 118 Lecture 5 \n",
    "## Fall 2021 - Now with Pandas!  - Bar Charts and Histograms ##"
   ]
  },
  {
   "cell_type": "markdown",
   "metadata": {},
   "source": [
    "## Data Types\n",
    "### All values in a column should be both the same type and be comparable to each other in some way\n",
    "- **Numerical** — Each value is from a fixed scale\n",
    "    - Numerical measurements are ordered\n",
    "    - Differences are typically meaningful\n",
    "    \n",
    "\n",
    "- **Categorical** — Each value is from a fixed inventory\n",
    "    - May or may not have an ordering\n",
    "    - Categories are the same or different\n"
   ]
  },
  {
   "cell_type": "markdown",
   "metadata": {},
   "source": [
    "## Numerical Distributions"
   ]
  },
  {
   "cell_type": "code",
   "execution_count": 4,
   "metadata": {},
   "outputs": [
    {
     "data": {
      "text/html": [
       "<div>\n",
       "<style scoped>\n",
       "    .dataframe tbody tr th:only-of-type {\n",
       "        vertical-align: middle;\n",
       "    }\n",
       "\n",
       "    .dataframe tbody tr th {\n",
       "        vertical-align: top;\n",
       "    }\n",
       "\n",
       "    .dataframe thead th {\n",
       "        text-align: right;\n",
       "    }\n",
       "</style>\n",
       "<table border=\"1\" class=\"dataframe\">\n",
       "  <thead>\n",
       "    <tr style=\"text-align: right;\">\n",
       "      <th></th>\n",
       "      <th>Actor</th>\n",
       "      <th>Total Gross</th>\n",
       "      <th>Number of Movies</th>\n",
       "      <th>Average per Movie</th>\n",
       "      <th>#1 Movie</th>\n",
       "      <th>Gross</th>\n",
       "    </tr>\n",
       "  </thead>\n",
       "  <tbody>\n",
       "    <tr>\n",
       "      <th>0</th>\n",
       "      <td>Harrison Ford</td>\n",
       "      <td>4871.7</td>\n",
       "      <td>41</td>\n",
       "      <td>118.8</td>\n",
       "      <td>Star Wars: The Force Awakens</td>\n",
       "      <td>936.7</td>\n",
       "    </tr>\n",
       "    <tr>\n",
       "      <th>1</th>\n",
       "      <td>Samuel L. Jackson</td>\n",
       "      <td>4772.8</td>\n",
       "      <td>69</td>\n",
       "      <td>69.2</td>\n",
       "      <td>The Avengers</td>\n",
       "      <td>623.4</td>\n",
       "    </tr>\n",
       "    <tr>\n",
       "      <th>2</th>\n",
       "      <td>Morgan Freeman</td>\n",
       "      <td>4468.3</td>\n",
       "      <td>61</td>\n",
       "      <td>73.3</td>\n",
       "      <td>The Dark Knight</td>\n",
       "      <td>534.9</td>\n",
       "    </tr>\n",
       "    <tr>\n",
       "      <th>3</th>\n",
       "      <td>Tom Hanks</td>\n",
       "      <td>4340.8</td>\n",
       "      <td>44</td>\n",
       "      <td>98.7</td>\n",
       "      <td>Toy Story 3</td>\n",
       "      <td>415.0</td>\n",
       "    </tr>\n",
       "    <tr>\n",
       "      <th>4</th>\n",
       "      <td>Robert Downey, Jr.</td>\n",
       "      <td>3947.3</td>\n",
       "      <td>53</td>\n",
       "      <td>74.5</td>\n",
       "      <td>The Avengers</td>\n",
       "      <td>623.4</td>\n",
       "    </tr>\n",
       "  </tbody>\n",
       "</table>\n",
       "</div>"
      ],
      "text/plain": [
       "                Actor  Total Gross  Number of Movies  Average per Movie  \\\n",
       "0       Harrison Ford       4871.7                41              118.8   \n",
       "1   Samuel L. Jackson       4772.8                69               69.2   \n",
       "2      Morgan Freeman       4468.3                61               73.3   \n",
       "3           Tom Hanks       4340.8                44               98.7   \n",
       "4  Robert Downey, Jr.       3947.3                53               74.5   \n",
       "\n",
       "                       #1 Movie  Gross  \n",
       "0  Star Wars: The Force Awakens  936.7  \n",
       "1                  The Avengers  623.4  \n",
       "2               The Dark Knight  534.9  \n",
       "3                   Toy Story 3  415.0  \n",
       "4                  The Avengers  623.4  "
      ]
     },
     "execution_count": 4,
     "metadata": {},
     "output_type": "execute_result"
    }
   ],
   "source": [
    "actors = pd.read_csv('./data/actors.csv')\n",
    "actors.head()"
   ]
  },
  {
   "cell_type": "markdown",
   "metadata": {},
   "source": [
    "## For Numeric data, some good choices are line graphs and scatter plots\n",
    "- **Line plots** are useful when the x-axis is ordered (e.g., timeseries data)\n",
    "- **Scatter plots** are for comparing two dimensional data"
   ]
  },
  {
   "cell_type": "code",
   "execution_count": 5,
   "metadata": {},
   "outputs": [
    {
     "data": {
      "text/plain": [
       "<AxesSubplot:xlabel='Number of Movies', ylabel='Total Gross'>"
      ]
     },
     "execution_count": 5,
     "metadata": {},
     "output_type": "execute_result"
    },
    {
     "data": {
      "image/png": "[encoded data removed]",
      "text/plain": [
       "<Figure size 432x288 with 1 Axes>"
      ]
     },
     "metadata": {},
     "output_type": "display_data"
    }
   ],
   "source": [
    "actors.plot.scatter('Number of Movies', 'Total Gross')"
   ]
  },
  {
   "cell_type": "code",
   "execution_count": 6,
   "metadata": {},
   "outputs": [
    {
     "data": {
      "text/html": [
       "<div>\n",
       "<style scoped>\n",
       "    .dataframe tbody tr th:only-of-type {\n",
       "        vertical-align: middle;\n",
       "    }\n",
       "\n",
       "    .dataframe tbody tr th {\n",
       "        vertical-align: top;\n",
       "    }\n",
       "\n",
       "    .dataframe thead th {\n",
       "        text-align: right;\n",
       "    }\n",
       "</style>\n",
       "<table border=\"1\" class=\"dataframe\">\n",
       "  <thead>\n",
       "    <tr style=\"text-align: right;\">\n",
       "      <th></th>\n",
       "      <th>Actor</th>\n",
       "      <th>Total Gross</th>\n",
       "      <th>Number of Movies</th>\n",
       "      <th>Average per Movie</th>\n",
       "      <th>#1 Movie</th>\n",
       "      <th>Gross</th>\n",
       "    </tr>\n",
       "  </thead>\n",
       "  <tbody>\n",
       "    <tr>\n",
       "      <th>19</th>\n",
       "      <td>Robert DeNiro</td>\n",
       "      <td>3081.3</td>\n",
       "      <td>79</td>\n",
       "      <td>39.0</td>\n",
       "      <td>Meet the Fockers</td>\n",
       "      <td>279.3</td>\n",
       "    </tr>\n",
       "  </tbody>\n",
       "</table>\n",
       "</div>"
      ],
      "text/plain": [
       "            Actor  Total Gross  Number of Movies  Average per Movie  \\\n",
       "19  Robert DeNiro       3081.3                79               39.0   \n",
       "\n",
       "            #1 Movie  Gross  \n",
       "19  Meet the Fockers  279.3  "
      ]
     },
     "execution_count": 6,
     "metadata": {},
     "output_type": "execute_result"
    }
   ],
   "source": [
    "#Get the row for the actor with more than 75 movies\n",
    "#actors.query(\"'Number of Movies' > 75\") doesn't work because of spaces in the column name\n",
    "actors.loc[actors['Number of Movies']>75]"
   ]
  },
  {
   "cell_type": "code",
   "execution_count": 7,
   "metadata": {},
   "outputs": [
    {
     "data": {
      "text/html": [
       "<div>\n",
       "<style scoped>\n",
       "    .dataframe tbody tr th:only-of-type {\n",
       "        vertical-align: middle;\n",
       "    }\n",
       "\n",
       "    .dataframe tbody tr th {\n",
       "        vertical-align: top;\n",
       "    }\n",
       "\n",
       "    .dataframe thead th {\n",
       "        text-align: right;\n",
       "    }\n",
       "</style>\n",
       "<table border=\"1\" class=\"dataframe\">\n",
       "  <thead>\n",
       "    <tr style=\"text-align: right;\">\n",
       "      <th></th>\n",
       "      <th>Actor</th>\n",
       "      <th>Total Gross</th>\n",
       "      <th>Number of Movies</th>\n",
       "      <th>Average per Movie</th>\n",
       "      <th>#1 Movie</th>\n",
       "      <th>Gross</th>\n",
       "    </tr>\n",
       "  </thead>\n",
       "  <tbody>\n",
       "    <tr>\n",
       "      <th>19</th>\n",
       "      <td>Robert DeNiro</td>\n",
       "      <td>3081.3</td>\n",
       "      <td>79</td>\n",
       "      <td>39.0</td>\n",
       "      <td>Meet the Fockers</td>\n",
       "      <td>279.3</td>\n",
       "    </tr>\n",
       "  </tbody>\n",
       "</table>\n",
       "</div>"
      ],
      "text/plain": [
       "            Actor  Total Gross  Number of Movies  Average per Movie  \\\n",
       "19  Robert DeNiro       3081.3                79               39.0   \n",
       "\n",
       "            #1 Movie  Gross  \n",
       "19  Meet the Fockers  279.3  "
      ]
     },
     "execution_count": 7,
     "metadata": {},
     "output_type": "execute_result"
    }
   ],
   "source": [
    "#an aside (since it came up in class - skip if not interested)\n",
    "# using .loc is easiest for a simple logical condition as shown above\n",
    "# but if you want to use .iloc, one way to do it is to create a boolean array.\n",
    "\n",
    "#busy_actors has one entry for each row of actors that is True if the predicate is True\n",
    "#and False otherwise.\n",
    "busy_actors=actors.iloc[:,2:3]>75\n",
    "\n",
    "#this will return rows from actors corresponding to True values in the array\n",
    "actors[busy_actors.values]"
   ]
  },
  {
   "cell_type": "code",
   "execution_count": 8,
   "metadata": {},
   "outputs": [
    {
     "data": {
      "text/plain": [
       "<AxesSubplot:xlabel='Number of Movies', ylabel='Average per Movie'>"
      ]
     },
     "execution_count": 8,
     "metadata": {},
     "output_type": "execute_result"
    },
    {
     "data": {
      "image/png": "[encoded data removed]",
      "text/plain": [
       "<Figure size 432x288 with 1 Axes>"
      ]
     },
     "metadata": {},
     "output_type": "display_data"
    }
   ],
   "source": [
    "actors.plot.scatter('Number of Movies', 'Average per Movie')"
   ]
  },
  {
   "cell_type": "code",
   "execution_count": 9,
   "metadata": {},
   "outputs": [
    {
     "data": {
      "text/html": [
       "<div>\n",
       "<style scoped>\n",
       "    .dataframe tbody tr th:only-of-type {\n",
       "        vertical-align: middle;\n",
       "    }\n",
       "\n",
       "    .dataframe tbody tr th {\n",
       "        vertical-align: top;\n",
       "    }\n",
       "\n",
       "    .dataframe thead th {\n",
       "        text-align: right;\n",
       "    }\n",
       "</style>\n",
       "<table border=\"1\" class=\"dataframe\">\n",
       "  <thead>\n",
       "    <tr style=\"text-align: right;\">\n",
       "      <th></th>\n",
       "      <th>Actor</th>\n",
       "      <th>Total Gross</th>\n",
       "      <th>Number of Movies</th>\n",
       "      <th>Average per Movie</th>\n",
       "      <th>#1 Movie</th>\n",
       "      <th>Gross</th>\n",
       "    </tr>\n",
       "  </thead>\n",
       "  <tbody>\n",
       "    <tr>\n",
       "      <th>14</th>\n",
       "      <td>Anthony Daniels</td>\n",
       "      <td>3162.9</td>\n",
       "      <td>7</td>\n",
       "      <td>451.8</td>\n",
       "      <td>Star Wars: The Force Awakens</td>\n",
       "      <td>936.7</td>\n",
       "    </tr>\n",
       "  </tbody>\n",
       "</table>\n",
       "</div>"
      ],
      "text/plain": [
       "              Actor  Total Gross  Number of Movies  Average per Movie  \\\n",
       "14  Anthony Daniels       3162.9                 7              451.8   \n",
       "\n",
       "                        #1 Movie  Gross  \n",
       "14  Star Wars: The Force Awakens  936.7  "
      ]
     },
     "execution_count": 9,
     "metadata": {},
     "output_type": "execute_result"
    }
   ],
   "source": [
    "actors.loc[actors['Number of Movies']<10]"
   ]
  },
  {
   "cell_type": "markdown",
   "metadata": {},
   "source": [
    "### Who is Anthony Daniels???? ###"
   ]
  },
  {
   "cell_type": "markdown",
   "metadata": {},
   "source": [
    "## Categorical Distributions ##"
   ]
  },
  {
   "cell_type": "code",
   "execution_count": 10,
   "metadata": {},
   "outputs": [
    {
     "data": {
      "text/html": [
       "<div>\n",
       "<style scoped>\n",
       "    .dataframe tbody tr th:only-of-type {\n",
       "        vertical-align: middle;\n",
       "    }\n",
       "\n",
       "    .dataframe tbody tr th {\n",
       "        vertical-align: top;\n",
       "    }\n",
       "\n",
       "    .dataframe thead th {\n",
       "        text-align: right;\n",
       "    }\n",
       "</style>\n",
       "<table border=\"1\" class=\"dataframe\">\n",
       "  <thead>\n",
       "    <tr style=\"text-align: right;\">\n",
       "      <th></th>\n",
       "      <th>Title</th>\n",
       "      <th>Studio</th>\n",
       "      <th>Gross</th>\n",
       "      <th>Gross (Adjusted)</th>\n",
       "      <th>Year</th>\n",
       "    </tr>\n",
       "  </thead>\n",
       "  <tbody>\n",
       "    <tr>\n",
       "      <th>0</th>\n",
       "      <td>Gone with the Wind</td>\n",
       "      <td>MGM</td>\n",
       "      <td>198676459</td>\n",
       "      <td>1796176700</td>\n",
       "      <td>1939</td>\n",
       "    </tr>\n",
       "    <tr>\n",
       "      <th>1</th>\n",
       "      <td>Star Wars</td>\n",
       "      <td>Fox</td>\n",
       "      <td>460998007</td>\n",
       "      <td>1583483200</td>\n",
       "      <td>1977</td>\n",
       "    </tr>\n",
       "    <tr>\n",
       "      <th>2</th>\n",
       "      <td>The Sound of Music</td>\n",
       "      <td>Fox</td>\n",
       "      <td>158671368</td>\n",
       "      <td>1266072700</td>\n",
       "      <td>1965</td>\n",
       "    </tr>\n",
       "    <tr>\n",
       "      <th>3</th>\n",
       "      <td>E.T.: The Extra-Terrestrial</td>\n",
       "      <td>Universal</td>\n",
       "      <td>435110554</td>\n",
       "      <td>1261085000</td>\n",
       "      <td>1982</td>\n",
       "    </tr>\n",
       "    <tr>\n",
       "      <th>4</th>\n",
       "      <td>Titanic</td>\n",
       "      <td>Paramount</td>\n",
       "      <td>658672302</td>\n",
       "      <td>1204368000</td>\n",
       "      <td>1997</td>\n",
       "    </tr>\n",
       "    <tr>\n",
       "      <th>5</th>\n",
       "      <td>The Ten Commandments</td>\n",
       "      <td>Paramount</td>\n",
       "      <td>65500000</td>\n",
       "      <td>1164590000</td>\n",
       "      <td>1956</td>\n",
       "    </tr>\n",
       "    <tr>\n",
       "      <th>6</th>\n",
       "      <td>Jaws</td>\n",
       "      <td>Universal</td>\n",
       "      <td>260000000</td>\n",
       "      <td>1138620700</td>\n",
       "      <td>1975</td>\n",
       "    </tr>\n",
       "    <tr>\n",
       "      <th>7</th>\n",
       "      <td>Doctor Zhivago</td>\n",
       "      <td>MGM</td>\n",
       "      <td>111721910</td>\n",
       "      <td>1103564200</td>\n",
       "      <td>1965</td>\n",
       "    </tr>\n",
       "    <tr>\n",
       "      <th>8</th>\n",
       "      <td>The Exorcist</td>\n",
       "      <td>Warner Brothers</td>\n",
       "      <td>232906145</td>\n",
       "      <td>983226600</td>\n",
       "      <td>1973</td>\n",
       "    </tr>\n",
       "    <tr>\n",
       "      <th>9</th>\n",
       "      <td>Snow White and the Seven Dwarves</td>\n",
       "      <td>Disney</td>\n",
       "      <td>184925486</td>\n",
       "      <td>969010000</td>\n",
       "      <td>1937</td>\n",
       "    </tr>\n",
       "  </tbody>\n",
       "</table>\n",
       "</div>"
      ],
      "text/plain": [
       "                              Title           Studio      Gross  \\\n",
       "0                Gone with the Wind              MGM  198676459   \n",
       "1                         Star Wars              Fox  460998007   \n",
       "2                The Sound of Music              Fox  158671368   \n",
       "3       E.T.: The Extra-Terrestrial        Universal  435110554   \n",
       "4                           Titanic        Paramount  658672302   \n",
       "5              The Ten Commandments        Paramount   65500000   \n",
       "6                              Jaws        Universal  260000000   \n",
       "7                    Doctor Zhivago              MGM  111721910   \n",
       "8                      The Exorcist  Warner Brothers  232906145   \n",
       "9  Snow White and the Seven Dwarves           Disney  184925486   \n",
       "\n",
       "   Gross (Adjusted)  Year  \n",
       "0        1796176700  1939  \n",
       "1        1583483200  1977  \n",
       "2        1266072700  1965  \n",
       "3        1261085000  1982  \n",
       "4        1204368000  1997  \n",
       "5        1164590000  1956  \n",
       "6        1138620700  1975  \n",
       "7        1103564200  1965  \n",
       "8         983226600  1973  \n",
       "9         969010000  1937  "
      ]
     },
     "execution_count": 10,
     "metadata": {},
     "output_type": "execute_result"
    }
   ],
   "source": [
    "top = pd.read_csv('./data/top_movies_2017.csv')\n",
    "top.head(10)"
   ]
  },
  {
   "cell_type": "code",
   "execution_count": 11,
   "metadata": {},
   "outputs": [
    {
     "data": {
      "text/html": [
       "<style type=\"text/css\">\n",
       "</style>\n",
       "<table id=\"T_836dc_\">\n",
       "  <thead>\n",
       "    <tr>\n",
       "      <th class=\"blank level0\" >&nbsp;</th>\n",
       "      <th class=\"col_heading level0 col0\" >Title</th>\n",
       "      <th class=\"col_heading level0 col1\" >Studio</th>\n",
       "      <th class=\"col_heading level0 col2\" >Gross</th>\n",
       "      <th class=\"col_heading level0 col3\" >Gross (Adjusted)</th>\n",
       "      <th class=\"col_heading level0 col4\" >Year</th>\n",
       "    </tr>\n",
       "  </thead>\n",
       "  <tbody>\n",
       "    <tr>\n",
       "      <th id=\"T_836dc_level0_row0\" class=\"row_heading level0 row0\" >0</th>\n",
       "      <td id=\"T_836dc_row0_col0\" class=\"data row0 col0\" >Gone with the Wind</td>\n",
       "      <td id=\"T_836dc_row0_col1\" class=\"data row0 col1\" >MGM</td>\n",
       "      <td id=\"T_836dc_row0_col2\" class=\"data row0 col2\" >198,676,459</td>\n",
       "      <td id=\"T_836dc_row0_col3\" class=\"data row0 col3\" >1,796,176,700</td>\n",
       "      <td id=\"T_836dc_row0_col4\" class=\"data row0 col4\" >1939</td>\n",
       "    </tr>\n",
       "    <tr>\n",
       "      <th id=\"T_836dc_level0_row1\" class=\"row_heading level0 row1\" >1</th>\n",
       "      <td id=\"T_836dc_row1_col0\" class=\"data row1 col0\" >Star Wars</td>\n",
       "      <td id=\"T_836dc_row1_col1\" class=\"data row1 col1\" >Fox</td>\n",
       "      <td id=\"T_836dc_row1_col2\" class=\"data row1 col2\" >460,998,007</td>\n",
       "      <td id=\"T_836dc_row1_col3\" class=\"data row1 col3\" >1,583,483,200</td>\n",
       "      <td id=\"T_836dc_row1_col4\" class=\"data row1 col4\" >1977</td>\n",
       "    </tr>\n",
       "    <tr>\n",
       "      <th id=\"T_836dc_level0_row2\" class=\"row_heading level0 row2\" >2</th>\n",
       "      <td id=\"T_836dc_row2_col0\" class=\"data row2 col0\" >The Sound of Music</td>\n",
       "      <td id=\"T_836dc_row2_col1\" class=\"data row2 col1\" >Fox</td>\n",
       "      <td id=\"T_836dc_row2_col2\" class=\"data row2 col2\" >158,671,368</td>\n",
       "      <td id=\"T_836dc_row2_col3\" class=\"data row2 col3\" >1,266,072,700</td>\n",
       "      <td id=\"T_836dc_row2_col4\" class=\"data row2 col4\" >1965</td>\n",
       "    </tr>\n",
       "    <tr>\n",
       "      <th id=\"T_836dc_level0_row3\" class=\"row_heading level0 row3\" >3</th>\n",
       "      <td id=\"T_836dc_row3_col0\" class=\"data row3 col0\" >E.T.: The Extra-Terrestrial</td>\n",
       "      <td id=\"T_836dc_row3_col1\" class=\"data row3 col1\" >Universal</td>\n",
       "      <td id=\"T_836dc_row3_col2\" class=\"data row3 col2\" >435,110,554</td>\n",
       "      <td id=\"T_836dc_row3_col3\" class=\"data row3 col3\" >1,261,085,000</td>\n",
       "      <td id=\"T_836dc_row3_col4\" class=\"data row3 col4\" >1982</td>\n",
       "    </tr>\n",
       "    <tr>\n",
       "      <th id=\"T_836dc_level0_row4\" class=\"row_heading level0 row4\" >4</th>\n",
       "      <td id=\"T_836dc_row4_col0\" class=\"data row4 col0\" >Titanic</td>\n",
       "      <td id=\"T_836dc_row4_col1\" class=\"data row4 col1\" >Paramount</td>\n",
       "      <td id=\"T_836dc_row4_col2\" class=\"data row4 col2\" >658,672,302</td>\n",
       "      <td id=\"T_836dc_row4_col3\" class=\"data row4 col3\" >1,204,368,000</td>\n",
       "      <td id=\"T_836dc_row4_col4\" class=\"data row4 col4\" >1997</td>\n",
       "    </tr>\n",
       "    <tr>\n",
       "      <th id=\"T_836dc_level0_row5\" class=\"row_heading level0 row5\" >5</th>\n",
       "      <td id=\"T_836dc_row5_col0\" class=\"data row5 col0\" >The Ten Commandments</td>\n",
       "      <td id=\"T_836dc_row5_col1\" class=\"data row5 col1\" >Paramount</td>\n",
       "      <td id=\"T_836dc_row5_col2\" class=\"data row5 col2\" >65,500,000</td>\n",
       "      <td id=\"T_836dc_row5_col3\" class=\"data row5 col3\" >1,164,590,000</td>\n",
       "      <td id=\"T_836dc_row5_col4\" class=\"data row5 col4\" >1956</td>\n",
       "    </tr>\n",
       "    <tr>\n",
       "      <th id=\"T_836dc_level0_row6\" class=\"row_heading level0 row6\" >6</th>\n",
       "      <td id=\"T_836dc_row6_col0\" class=\"data row6 col0\" >Jaws</td>\n",
       "      <td id=\"T_836dc_row6_col1\" class=\"data row6 col1\" >Universal</td>\n",
       "      <td id=\"T_836dc_row6_col2\" class=\"data row6 col2\" >260,000,000</td>\n",
       "      <td id=\"T_836dc_row6_col3\" class=\"data row6 col3\" >1,138,620,700</td>\n",
       "      <td id=\"T_836dc_row6_col4\" class=\"data row6 col4\" >1975</td>\n",
       "    </tr>\n",
       "    <tr>\n",
       "      <th id=\"T_836dc_level0_row7\" class=\"row_heading level0 row7\" >7</th>\n",
       "      <td id=\"T_836dc_row7_col0\" class=\"data row7 col0\" >Doctor Zhivago</td>\n",
       "      <td id=\"T_836dc_row7_col1\" class=\"data row7 col1\" >MGM</td>\n",
       "      <td id=\"T_836dc_row7_col2\" class=\"data row7 col2\" >111,721,910</td>\n",
       "      <td id=\"T_836dc_row7_col3\" class=\"data row7 col3\" >1,103,564,200</td>\n",
       "      <td id=\"T_836dc_row7_col4\" class=\"data row7 col4\" >1965</td>\n",
       "    </tr>\n",
       "    <tr>\n",
       "      <th id=\"T_836dc_level0_row8\" class=\"row_heading level0 row8\" >8</th>\n",
       "      <td id=\"T_836dc_row8_col0\" class=\"data row8 col0\" >The Exorcist</td>\n",
       "      <td id=\"T_836dc_row8_col1\" class=\"data row8 col1\" >Warner Brothers</td>\n",
       "      <td id=\"T_836dc_row8_col2\" class=\"data row8 col2\" >232,906,145</td>\n",
       "      <td id=\"T_836dc_row8_col3\" class=\"data row8 col3\" >983,226,600</td>\n",
       "      <td id=\"T_836dc_row8_col4\" class=\"data row8 col4\" >1973</td>\n",
       "    </tr>\n",
       "    <tr>\n",
       "      <th id=\"T_836dc_level0_row9\" class=\"row_heading level0 row9\" >9</th>\n",
       "      <td id=\"T_836dc_row9_col0\" class=\"data row9 col0\" >Snow White and the Seven Dwarves</td>\n",
       "      <td id=\"T_836dc_row9_col1\" class=\"data row9 col1\" >Disney</td>\n",
       "      <td id=\"T_836dc_row9_col2\" class=\"data row9 col2\" >184,925,486</td>\n",
       "      <td id=\"T_836dc_row9_col3\" class=\"data row9 col3\" >969,010,000</td>\n",
       "      <td id=\"T_836dc_row9_col4\" class=\"data row9 col4\" >1937</td>\n",
       "    </tr>\n",
       "  </tbody>\n",
       "</table>\n"
      ],
      "text/plain": [
       "<pandas.io.formats.style.Styler at 0x7f8f367ae1f0>"
      ]
     },
     "execution_count": 11,
     "metadata": {},
     "output_type": "execute_result"
    }
   ],
   "source": [
    "#that's a bit hard to read - pretty print it\n",
    "#we can use style.format to display numbers with thousands separators\n",
    "\n",
    "top.head(10).style.format({\n",
    "    \"Gross\": \"{:,d}\",\n",
    "    \"Gross (Adjusted)\": \"{:,d}\"\n",
    "})"
   ]
  },
  {
   "cell_type": "markdown",
   "metadata": {},
   "source": [
    "### The groupby() function can tell us some useful summary statistics about the categories (i.e., \"groups\")"
   ]
  },
  {
   "cell_type": "code",
   "execution_count": 12,
   "metadata": {},
   "outputs": [
    {
     "data": {
      "text/plain": [
       "pandas.core.series.Series"
      ]
     },
     "execution_count": 12,
     "metadata": {},
     "output_type": "execute_result"
    }
   ],
   "source": [
    "#This returns a Series with one entry for each distinct studio\n",
    "type(top.groupby('Studio').Gross.sum())\n"
   ]
  },
  {
   "cell_type": "code",
   "execution_count": 13,
   "metadata": {},
   "outputs": [
    {
     "data": {
      "text/html": [
       "<div>\n",
       "<style scoped>\n",
       "    .dataframe tbody tr th:only-of-type {\n",
       "        vertical-align: middle;\n",
       "    }\n",
       "\n",
       "    .dataframe tbody tr th {\n",
       "        vertical-align: top;\n",
       "    }\n",
       "\n",
       "    .dataframe thead th {\n",
       "        text-align: right;\n",
       "    }\n",
       "</style>\n",
       "<table border=\"1\" class=\"dataframe\">\n",
       "  <thead>\n",
       "    <tr style=\"text-align: right;\">\n",
       "      <th></th>\n",
       "      <th>Studio</th>\n",
       "      <th>Gross</th>\n",
       "    </tr>\n",
       "  </thead>\n",
       "  <tbody>\n",
       "    <tr>\n",
       "      <th>0</th>\n",
       "      <td>AVCO</td>\n",
       "      <td>104945305</td>\n",
       "    </tr>\n",
       "    <tr>\n",
       "      <th>1</th>\n",
       "      <td>Buena Vista</td>\n",
       "      <td>12370356892</td>\n",
       "    </tr>\n",
       "    <tr>\n",
       "      <th>2</th>\n",
       "      <td>Columbia</td>\n",
       "      <td>860425219</td>\n",
       "    </tr>\n",
       "    <tr>\n",
       "      <th>3</th>\n",
       "      <td>Disney</td>\n",
       "      <td>1100688229</td>\n",
       "    </tr>\n",
       "    <tr>\n",
       "      <th>4</th>\n",
       "      <td>Dreamworks</td>\n",
       "      <td>925432167</td>\n",
       "    </tr>\n",
       "    <tr>\n",
       "      <th>5</th>\n",
       "      <td>Fox</td>\n",
       "      <td>5569320061</td>\n",
       "    </tr>\n",
       "    <tr>\n",
       "      <th>6</th>\n",
       "      <td>IFC</td>\n",
       "      <td>241438208</td>\n",
       "    </tr>\n",
       "    <tr>\n",
       "      <th>7</th>\n",
       "      <td>Lionsgate</td>\n",
       "      <td>1169814624</td>\n",
       "    </tr>\n",
       "    <tr>\n",
       "      <th>8</th>\n",
       "      <td>MGM</td>\n",
       "      <td>704168476</td>\n",
       "    </tr>\n",
       "    <tr>\n",
       "      <th>9</th>\n",
       "      <td>Metro</td>\n",
       "      <td>9183673</td>\n",
       "    </tr>\n",
       "    <tr>\n",
       "      <th>10</th>\n",
       "      <td>NM</td>\n",
       "      <td>370782930</td>\n",
       "    </tr>\n",
       "    <tr>\n",
       "      <th>11</th>\n",
       "      <td>Newline</td>\n",
       "      <td>1468146392</td>\n",
       "    </tr>\n",
       "    <tr>\n",
       "      <th>12</th>\n",
       "      <td>Orion</td>\n",
       "      <td>184208848</td>\n",
       "    </tr>\n",
       "    <tr>\n",
       "      <th>13</th>\n",
       "      <td>Paramount</td>\n",
       "      <td>5026512153</td>\n",
       "    </tr>\n",
       "    <tr>\n",
       "      <th>14</th>\n",
       "      <td>Paramount/Dreamworks</td>\n",
       "      <td>1396468550</td>\n",
       "    </tr>\n",
       "    <tr>\n",
       "      <th>15</th>\n",
       "      <td>RKO</td>\n",
       "      <td>147230483</td>\n",
       "    </tr>\n",
       "    <tr>\n",
       "      <th>16</th>\n",
       "      <td>Selz.</td>\n",
       "      <td>20408163</td>\n",
       "    </tr>\n",
       "    <tr>\n",
       "      <th>17</th>\n",
       "      <td>Sony</td>\n",
       "      <td>1364513042</td>\n",
       "    </tr>\n",
       "    <tr>\n",
       "      <th>18</th>\n",
       "      <td>Sum.</td>\n",
       "      <td>296623634</td>\n",
       "    </tr>\n",
       "    <tr>\n",
       "      <th>19</th>\n",
       "      <td>Tristar</td>\n",
       "      <td>355811550</td>\n",
       "    </tr>\n",
       "    <tr>\n",
       "      <th>20</th>\n",
       "      <td>United Artists</td>\n",
       "      <td>507942267</td>\n",
       "    </tr>\n",
       "    <tr>\n",
       "      <th>21</th>\n",
       "      <td>Universal</td>\n",
       "      <td>5623192345</td>\n",
       "    </tr>\n",
       "    <tr>\n",
       "      <th>22</th>\n",
       "      <td>Warner Brothers</td>\n",
       "      <td>6885884774</td>\n",
       "    </tr>\n",
       "  </tbody>\n",
       "</table>\n",
       "</div>"
      ],
      "text/plain": [
       "                  Studio        Gross\n",
       "0                   AVCO    104945305\n",
       "1            Buena Vista  12370356892\n",
       "2               Columbia    860425219\n",
       "3                 Disney   1100688229\n",
       "4             Dreamworks    925432167\n",
       "5                    Fox   5569320061\n",
       "6                    IFC    241438208\n",
       "7              Lionsgate   1169814624\n",
       "8                    MGM    704168476\n",
       "9                  Metro      9183673\n",
       "10                    NM    370782930\n",
       "11               Newline   1468146392\n",
       "12                 Orion    184208848\n",
       "13             Paramount   5026512153\n",
       "14  Paramount/Dreamworks   1396468550\n",
       "15                   RKO    147230483\n",
       "16                 Selz.     20408163\n",
       "17                  Sony   1364513042\n",
       "18                  Sum.    296623634\n",
       "19               Tristar    355811550\n",
       "20        United Artists    507942267\n",
       "21             Universal   5623192345\n",
       "22       Warner Brothers   6885884774"
      ]
     },
     "execution_count": 13,
     "metadata": {},
     "output_type": "execute_result"
    }
   ],
   "source": [
    "#can use \"reset_index()\" to turn the result back into a dataframe\n",
    "gross_by_studio = top.groupby('Studio').Gross.sum().reset_index()\n",
    "gross_by_studio"
   ]
  },
  {
   "cell_type": "code",
   "execution_count": 14,
   "metadata": {},
   "outputs": [
    {
     "data": {
      "text/html": [
       "<style type=\"text/css\">\n",
       "</style>\n",
       "<table id=\"T_5b6e5_\">\n",
       "  <thead>\n",
       "    <tr>\n",
       "      <th class=\"blank level0\" >&nbsp;</th>\n",
       "      <th class=\"col_heading level0 col0\" >Studio</th>\n",
       "      <th class=\"col_heading level0 col1\" >Gross</th>\n",
       "    </tr>\n",
       "  </thead>\n",
       "  <tbody>\n",
       "    <tr>\n",
       "      <th id=\"T_5b6e5_level0_row0\" class=\"row_heading level0 row0\" >1</th>\n",
       "      <td id=\"T_5b6e5_row0_col0\" class=\"data row0 col0\" >Buena Vista</td>\n",
       "      <td id=\"T_5b6e5_row0_col1\" class=\"data row0 col1\" >12,370,356,892</td>\n",
       "    </tr>\n",
       "    <tr>\n",
       "      <th id=\"T_5b6e5_level0_row1\" class=\"row_heading level0 row1\" >22</th>\n",
       "      <td id=\"T_5b6e5_row1_col0\" class=\"data row1 col0\" >Warner Brothers</td>\n",
       "      <td id=\"T_5b6e5_row1_col1\" class=\"data row1 col1\" >6,885,884,774</td>\n",
       "    </tr>\n",
       "    <tr>\n",
       "      <th id=\"T_5b6e5_level0_row2\" class=\"row_heading level0 row2\" >21</th>\n",
       "      <td id=\"T_5b6e5_row2_col0\" class=\"data row2 col0\" >Universal</td>\n",
       "      <td id=\"T_5b6e5_row2_col1\" class=\"data row2 col1\" >5,623,192,345</td>\n",
       "    </tr>\n",
       "    <tr>\n",
       "      <th id=\"T_5b6e5_level0_row3\" class=\"row_heading level0 row3\" >5</th>\n",
       "      <td id=\"T_5b6e5_row3_col0\" class=\"data row3 col0\" >Fox</td>\n",
       "      <td id=\"T_5b6e5_row3_col1\" class=\"data row3 col1\" >5,569,320,061</td>\n",
       "    </tr>\n",
       "    <tr>\n",
       "      <th id=\"T_5b6e5_level0_row4\" class=\"row_heading level0 row4\" >13</th>\n",
       "      <td id=\"T_5b6e5_row4_col0\" class=\"data row4 col0\" >Paramount</td>\n",
       "      <td id=\"T_5b6e5_row4_col1\" class=\"data row4 col1\" >5,026,512,153</td>\n",
       "    </tr>\n",
       "    <tr>\n",
       "      <th id=\"T_5b6e5_level0_row5\" class=\"row_heading level0 row5\" >11</th>\n",
       "      <td id=\"T_5b6e5_row5_col0\" class=\"data row5 col0\" >Newline</td>\n",
       "      <td id=\"T_5b6e5_row5_col1\" class=\"data row5 col1\" >1,468,146,392</td>\n",
       "    </tr>\n",
       "    <tr>\n",
       "      <th id=\"T_5b6e5_level0_row6\" class=\"row_heading level0 row6\" >14</th>\n",
       "      <td id=\"T_5b6e5_row6_col0\" class=\"data row6 col0\" >Paramount/Dreamworks</td>\n",
       "      <td id=\"T_5b6e5_row6_col1\" class=\"data row6 col1\" >1,396,468,550</td>\n",
       "    </tr>\n",
       "    <tr>\n",
       "      <th id=\"T_5b6e5_level0_row7\" class=\"row_heading level0 row7\" >17</th>\n",
       "      <td id=\"T_5b6e5_row7_col0\" class=\"data row7 col0\" >Sony</td>\n",
       "      <td id=\"T_5b6e5_row7_col1\" class=\"data row7 col1\" >1,364,513,042</td>\n",
       "    </tr>\n",
       "    <tr>\n",
       "      <th id=\"T_5b6e5_level0_row8\" class=\"row_heading level0 row8\" >7</th>\n",
       "      <td id=\"T_5b6e5_row8_col0\" class=\"data row8 col0\" >Lionsgate</td>\n",
       "      <td id=\"T_5b6e5_row8_col1\" class=\"data row8 col1\" >1,169,814,624</td>\n",
       "    </tr>\n",
       "    <tr>\n",
       "      <th id=\"T_5b6e5_level0_row9\" class=\"row_heading level0 row9\" >3</th>\n",
       "      <td id=\"T_5b6e5_row9_col0\" class=\"data row9 col0\" >Disney</td>\n",
       "      <td id=\"T_5b6e5_row9_col1\" class=\"data row9 col1\" >1,100,688,229</td>\n",
       "    </tr>\n",
       "    <tr>\n",
       "      <th id=\"T_5b6e5_level0_row10\" class=\"row_heading level0 row10\" >4</th>\n",
       "      <td id=\"T_5b6e5_row10_col0\" class=\"data row10 col0\" >Dreamworks</td>\n",
       "      <td id=\"T_5b6e5_row10_col1\" class=\"data row10 col1\" >925,432,167</td>\n",
       "    </tr>\n",
       "    <tr>\n",
       "      <th id=\"T_5b6e5_level0_row11\" class=\"row_heading level0 row11\" >2</th>\n",
       "      <td id=\"T_5b6e5_row11_col0\" class=\"data row11 col0\" >Columbia</td>\n",
       "      <td id=\"T_5b6e5_row11_col1\" class=\"data row11 col1\" >860,425,219</td>\n",
       "    </tr>\n",
       "    <tr>\n",
       "      <th id=\"T_5b6e5_level0_row12\" class=\"row_heading level0 row12\" >8</th>\n",
       "      <td id=\"T_5b6e5_row12_col0\" class=\"data row12 col0\" >MGM</td>\n",
       "      <td id=\"T_5b6e5_row12_col1\" class=\"data row12 col1\" >704,168,476</td>\n",
       "    </tr>\n",
       "    <tr>\n",
       "      <th id=\"T_5b6e5_level0_row13\" class=\"row_heading level0 row13\" >20</th>\n",
       "      <td id=\"T_5b6e5_row13_col0\" class=\"data row13 col0\" >United Artists</td>\n",
       "      <td id=\"T_5b6e5_row13_col1\" class=\"data row13 col1\" >507,942,267</td>\n",
       "    </tr>\n",
       "    <tr>\n",
       "      <th id=\"T_5b6e5_level0_row14\" class=\"row_heading level0 row14\" >10</th>\n",
       "      <td id=\"T_5b6e5_row14_col0\" class=\"data row14 col0\" >NM</td>\n",
       "      <td id=\"T_5b6e5_row14_col1\" class=\"data row14 col1\" >370,782,930</td>\n",
       "    </tr>\n",
       "    <tr>\n",
       "      <th id=\"T_5b6e5_level0_row15\" class=\"row_heading level0 row15\" >19</th>\n",
       "      <td id=\"T_5b6e5_row15_col0\" class=\"data row15 col0\" >Tristar</td>\n",
       "      <td id=\"T_5b6e5_row15_col1\" class=\"data row15 col1\" >355,811,550</td>\n",
       "    </tr>\n",
       "    <tr>\n",
       "      <th id=\"T_5b6e5_level0_row16\" class=\"row_heading level0 row16\" >18</th>\n",
       "      <td id=\"T_5b6e5_row16_col0\" class=\"data row16 col0\" >Sum.</td>\n",
       "      <td id=\"T_5b6e5_row16_col1\" class=\"data row16 col1\" >296,623,634</td>\n",
       "    </tr>\n",
       "    <tr>\n",
       "      <th id=\"T_5b6e5_level0_row17\" class=\"row_heading level0 row17\" >6</th>\n",
       "      <td id=\"T_5b6e5_row17_col0\" class=\"data row17 col0\" >IFC</td>\n",
       "      <td id=\"T_5b6e5_row17_col1\" class=\"data row17 col1\" >241,438,208</td>\n",
       "    </tr>\n",
       "    <tr>\n",
       "      <th id=\"T_5b6e5_level0_row18\" class=\"row_heading level0 row18\" >12</th>\n",
       "      <td id=\"T_5b6e5_row18_col0\" class=\"data row18 col0\" >Orion</td>\n",
       "      <td id=\"T_5b6e5_row18_col1\" class=\"data row18 col1\" >184,208,848</td>\n",
       "    </tr>\n",
       "    <tr>\n",
       "      <th id=\"T_5b6e5_level0_row19\" class=\"row_heading level0 row19\" >15</th>\n",
       "      <td id=\"T_5b6e5_row19_col0\" class=\"data row19 col0\" >RKO</td>\n",
       "      <td id=\"T_5b6e5_row19_col1\" class=\"data row19 col1\" >147,230,483</td>\n",
       "    </tr>\n",
       "    <tr>\n",
       "      <th id=\"T_5b6e5_level0_row20\" class=\"row_heading level0 row20\" >0</th>\n",
       "      <td id=\"T_5b6e5_row20_col0\" class=\"data row20 col0\" >AVCO</td>\n",
       "      <td id=\"T_5b6e5_row20_col1\" class=\"data row20 col1\" >104,945,305</td>\n",
       "    </tr>\n",
       "    <tr>\n",
       "      <th id=\"T_5b6e5_level0_row21\" class=\"row_heading level0 row21\" >16</th>\n",
       "      <td id=\"T_5b6e5_row21_col0\" class=\"data row21 col0\" >Selz.</td>\n",
       "      <td id=\"T_5b6e5_row21_col1\" class=\"data row21 col1\" >20,408,163</td>\n",
       "    </tr>\n",
       "    <tr>\n",
       "      <th id=\"T_5b6e5_level0_row22\" class=\"row_heading level0 row22\" >9</th>\n",
       "      <td id=\"T_5b6e5_row22_col0\" class=\"data row22 col0\" >Metro</td>\n",
       "      <td id=\"T_5b6e5_row22_col1\" class=\"data row22 col1\" >9,183,673</td>\n",
       "    </tr>\n",
       "  </tbody>\n",
       "</table>\n"
      ],
      "text/plain": [
       "<pandas.io.formats.style.Styler at 0x7f8f367ae4c0>"
      ]
     },
     "execution_count": 14,
     "metadata": {},
     "output_type": "execute_result"
    }
   ],
   "source": [
    "#maybe you want the result sorted and pretty printed?\n",
    "gross_by_studio.sort_values('Gross',ascending=False)\\\n",
    "    .style.format({\"Gross\": \"{:,d}\"})"
   ]
  },
  {
   "cell_type": "code",
   "execution_count": 15,
   "metadata": {},
   "outputs": [
    {
     "data": {
      "text/html": [
       "<div>\n",
       "<style scoped>\n",
       "    .dataframe tbody tr th:only-of-type {\n",
       "        vertical-align: middle;\n",
       "    }\n",
       "\n",
       "    .dataframe tbody tr th {\n",
       "        vertical-align: top;\n",
       "    }\n",
       "\n",
       "    .dataframe thead th {\n",
       "        text-align: right;\n",
       "    }\n",
       "</style>\n",
       "<table border=\"1\" class=\"dataframe\">\n",
       "  <thead>\n",
       "    <tr style=\"text-align: right;\">\n",
       "      <th></th>\n",
       "      <th>Year</th>\n",
       "      <th>Studio</th>\n",
       "      <th>Title</th>\n",
       "    </tr>\n",
       "  </thead>\n",
       "  <tbody>\n",
       "    <tr>\n",
       "      <th>169</th>\n",
       "      <td>2016</td>\n",
       "      <td>Buena Vista</td>\n",
       "      <td>5</td>\n",
       "    </tr>\n",
       "    <tr>\n",
       "      <th>168</th>\n",
       "      <td>2015</td>\n",
       "      <td>Universal</td>\n",
       "      <td>3</td>\n",
       "    </tr>\n",
       "    <tr>\n",
       "      <th>167</th>\n",
       "      <td>2015</td>\n",
       "      <td>Buena Vista</td>\n",
       "      <td>3</td>\n",
       "    </tr>\n",
       "    <tr>\n",
       "      <th>81</th>\n",
       "      <td>1987</td>\n",
       "      <td>Paramount</td>\n",
       "      <td>2</td>\n",
       "    </tr>\n",
       "    <tr>\n",
       "      <th>161</th>\n",
       "      <td>2013</td>\n",
       "      <td>Buena Vista</td>\n",
       "      <td>2</td>\n",
       "    </tr>\n",
       "    <tr>\n",
       "      <th>110</th>\n",
       "      <td>1997</td>\n",
       "      <td>Universal</td>\n",
       "      <td>2</td>\n",
       "    </tr>\n",
       "    <tr>\n",
       "      <th>113</th>\n",
       "      <td>1999</td>\n",
       "      <td>Buena Vista</td>\n",
       "      <td>2</td>\n",
       "    </tr>\n",
       "    <tr>\n",
       "      <th>147</th>\n",
       "      <td>2008</td>\n",
       "      <td>Paramount</td>\n",
       "      <td>2</td>\n",
       "    </tr>\n",
       "    <tr>\n",
       "      <th>65</th>\n",
       "      <td>1980</td>\n",
       "      <td>Fox</td>\n",
       "      <td>2</td>\n",
       "    </tr>\n",
       "    <tr>\n",
       "      <th>75</th>\n",
       "      <td>1984</td>\n",
       "      <td>Paramount</td>\n",
       "      <td>2</td>\n",
       "    </tr>\n",
       "  </tbody>\n",
       "</table>\n",
       "</div>"
      ],
      "text/plain": [
       "     Year       Studio  Title\n",
       "169  2016  Buena Vista      5\n",
       "168  2015    Universal      3\n",
       "167  2015  Buena Vista      3\n",
       "81   1987    Paramount      2\n",
       "161  2013  Buena Vista      2\n",
       "110  1997    Universal      2\n",
       "113  1999  Buena Vista      2\n",
       "147  2008    Paramount      2\n",
       "65   1980          Fox      2\n",
       "75   1984    Paramount      2"
      ]
     },
     "execution_count": 15,
     "metadata": {},
     "output_type": "execute_result"
    }
   ],
   "source": [
    "### Sometimes you may want to group by multiple columns\n",
    "top.groupby(['Year','Studio']).Title.count()\\\n",
    "    .reset_index().sort_values('Title',ascending=False).head(10)"
   ]
  },
  {
   "cell_type": "code",
   "execution_count": 16,
   "metadata": {},
   "outputs": [
    {
     "data": {
      "text/html": [
       "<div>\n",
       "<style scoped>\n",
       "    .dataframe tbody tr th:only-of-type {\n",
       "        vertical-align: middle;\n",
       "    }\n",
       "\n",
       "    .dataframe tbody tr th {\n",
       "        vertical-align: top;\n",
       "    }\n",
       "\n",
       "    .dataframe thead th {\n",
       "        text-align: right;\n",
       "    }\n",
       "</style>\n",
       "<table border=\"1\" class=\"dataframe\">\n",
       "  <thead>\n",
       "    <tr style=\"text-align: right;\">\n",
       "      <th></th>\n",
       "      <th>Studio</th>\n",
       "    </tr>\n",
       "  </thead>\n",
       "  <tbody>\n",
       "    <tr>\n",
       "      <th>0</th>\n",
       "      <td>MGM</td>\n",
       "    </tr>\n",
       "    <tr>\n",
       "      <th>1</th>\n",
       "      <td>Fox</td>\n",
       "    </tr>\n",
       "    <tr>\n",
       "      <th>2</th>\n",
       "      <td>Fox</td>\n",
       "    </tr>\n",
       "    <tr>\n",
       "      <th>3</th>\n",
       "      <td>Universal</td>\n",
       "    </tr>\n",
       "    <tr>\n",
       "      <th>4</th>\n",
       "      <td>Paramount</td>\n",
       "    </tr>\n",
       "    <tr>\n",
       "      <th>5</th>\n",
       "      <td>Paramount</td>\n",
       "    </tr>\n",
       "    <tr>\n",
       "      <th>6</th>\n",
       "      <td>Universal</td>\n",
       "    </tr>\n",
       "    <tr>\n",
       "      <th>7</th>\n",
       "      <td>MGM</td>\n",
       "    </tr>\n",
       "    <tr>\n",
       "      <th>8</th>\n",
       "      <td>Warner Brothers</td>\n",
       "    </tr>\n",
       "    <tr>\n",
       "      <th>9</th>\n",
       "      <td>Disney</td>\n",
       "    </tr>\n",
       "  </tbody>\n",
       "</table>\n",
       "</div>"
      ],
      "text/plain": [
       "            Studio\n",
       "0              MGM\n",
       "1              Fox\n",
       "2              Fox\n",
       "3        Universal\n",
       "4        Paramount\n",
       "5        Paramount\n",
       "6        Universal\n",
       "7              MGM\n",
       "8  Warner Brothers\n",
       "9           Disney"
      ]
     },
     "execution_count": 16,
     "metadata": {},
     "output_type": "execute_result"
    }
   ],
   "source": [
    "### Can use double brackets to extract a column and have the result be a dataframe (not a series)\n",
    "studios = top[['Studio']]\n",
    "studios.head(10)"
   ]
  },
  {
   "cell_type": "code",
   "execution_count": 17,
   "metadata": {},
   "outputs": [
    {
     "data": {
      "text/html": [
       "<div>\n",
       "<style scoped>\n",
       "    .dataframe tbody tr th:only-of-type {\n",
       "        vertical-align: middle;\n",
       "    }\n",
       "\n",
       "    .dataframe tbody tr th {\n",
       "        vertical-align: top;\n",
       "    }\n",
       "\n",
       "    .dataframe thead th {\n",
       "        text-align: right;\n",
       "    }\n",
       "</style>\n",
       "<table border=\"1\" class=\"dataframe\">\n",
       "  <thead>\n",
       "    <tr style=\"text-align: right;\">\n",
       "      <th></th>\n",
       "      <th>Studio</th>\n",
       "    </tr>\n",
       "  </thead>\n",
       "  <tbody>\n",
       "    <tr>\n",
       "      <th>21</th>\n",
       "      <td>AVCO</td>\n",
       "    </tr>\n",
       "    <tr>\n",
       "      <th>199</th>\n",
       "      <td>Buena Vista</td>\n",
       "    </tr>\n",
       "    <tr>\n",
       "      <th>109</th>\n",
       "      <td>Buena Vista</td>\n",
       "    </tr>\n",
       "    <tr>\n",
       "      <th>164</th>\n",
       "      <td>Buena Vista</td>\n",
       "    </tr>\n",
       "    <tr>\n",
       "      <th>115</th>\n",
       "      <td>Buena Vista</td>\n",
       "    </tr>\n",
       "    <tr>\n",
       "      <th>119</th>\n",
       "      <td>Buena Vista</td>\n",
       "    </tr>\n",
       "    <tr>\n",
       "      <th>129</th>\n",
       "      <td>Buena Vista</td>\n",
       "    </tr>\n",
       "    <tr>\n",
       "      <th>161</th>\n",
       "      <td>Buena Vista</td>\n",
       "    </tr>\n",
       "    <tr>\n",
       "      <th>28</th>\n",
       "      <td>Buena Vista</td>\n",
       "    </tr>\n",
       "    <tr>\n",
       "      <th>160</th>\n",
       "      <td>Buena Vista</td>\n",
       "    </tr>\n",
       "  </tbody>\n",
       "</table>\n",
       "</div>"
      ],
      "text/plain": [
       "          Studio\n",
       "21          AVCO\n",
       "199  Buena Vista\n",
       "109  Buena Vista\n",
       "164  Buena Vista\n",
       "115  Buena Vista\n",
       "119  Buena Vista\n",
       "129  Buena Vista\n",
       "161  Buena Vista\n",
       "28   Buena Vista\n",
       "160  Buena Vista"
      ]
     },
     "execution_count": 17,
     "metadata": {},
     "output_type": "execute_result"
    }
   ],
   "source": [
    "#what if we wanted them sorted?\n",
    "studios.sort_values('Studio').head(10)"
   ]
  },
  {
   "cell_type": "code",
   "execution_count": 18,
   "metadata": {},
   "outputs": [
    {
     "data": {
      "text/html": [
       "<div>\n",
       "<style scoped>\n",
       "    .dataframe tbody tr th:only-of-type {\n",
       "        vertical-align: middle;\n",
       "    }\n",
       "\n",
       "    .dataframe tbody tr th {\n",
       "        vertical-align: top;\n",
       "    }\n",
       "\n",
       "    .dataframe thead th {\n",
       "        text-align: right;\n",
       "    }\n",
       "</style>\n",
       "<table border=\"1\" class=\"dataframe\">\n",
       "  <thead>\n",
       "    <tr style=\"text-align: right;\">\n",
       "      <th></th>\n",
       "      <th>Studio</th>\n",
       "    </tr>\n",
       "  </thead>\n",
       "  <tbody>\n",
       "    <tr>\n",
       "      <th>0</th>\n",
       "      <td>AVCO</td>\n",
       "    </tr>\n",
       "    <tr>\n",
       "      <th>1</th>\n",
       "      <td>Buena Vista</td>\n",
       "    </tr>\n",
       "    <tr>\n",
       "      <th>2</th>\n",
       "      <td>Buena Vista</td>\n",
       "    </tr>\n",
       "    <tr>\n",
       "      <th>3</th>\n",
       "      <td>Buena Vista</td>\n",
       "    </tr>\n",
       "    <tr>\n",
       "      <th>4</th>\n",
       "      <td>Buena Vista</td>\n",
       "    </tr>\n",
       "    <tr>\n",
       "      <th>5</th>\n",
       "      <td>Buena Vista</td>\n",
       "    </tr>\n",
       "    <tr>\n",
       "      <th>6</th>\n",
       "      <td>Buena Vista</td>\n",
       "    </tr>\n",
       "    <tr>\n",
       "      <th>7</th>\n",
       "      <td>Buena Vista</td>\n",
       "    </tr>\n",
       "    <tr>\n",
       "      <th>8</th>\n",
       "      <td>Buena Vista</td>\n",
       "    </tr>\n",
       "    <tr>\n",
       "      <th>9</th>\n",
       "      <td>Buena Vista</td>\n",
       "    </tr>\n",
       "  </tbody>\n",
       "</table>\n",
       "</div>"
      ],
      "text/plain": [
       "        Studio\n",
       "0         AVCO\n",
       "1  Buena Vista\n",
       "2  Buena Vista\n",
       "3  Buena Vista\n",
       "4  Buena Vista\n",
       "5  Buena Vista\n",
       "6  Buena Vista\n",
       "7  Buena Vista\n",
       "8  Buena Vista\n",
       "9  Buena Vista"
      ]
     },
     "execution_count": 18,
     "metadata": {},
     "output_type": "execute_result"
    }
   ],
   "source": [
    "#if you want to reset the index\n",
    "#\"drop\" tells reset_index to drop the original index (otherwise it is kept as a new column)\n",
    "studios = studios.sort_values('Studio').reset_index(drop=True)\n",
    "studios.head(10)"
   ]
  },
  {
   "cell_type": "code",
   "execution_count": 19,
   "metadata": {},
   "outputs": [
    {
     "data": {
      "text/html": [
       "<div>\n",
       "<style scoped>\n",
       "    .dataframe tbody tr th:only-of-type {\n",
       "        vertical-align: middle;\n",
       "    }\n",
       "\n",
       "    .dataframe tbody tr th {\n",
       "        vertical-align: top;\n",
       "    }\n",
       "\n",
       "    .dataframe thead th {\n",
       "        text-align: right;\n",
       "    }\n",
       "</style>\n",
       "<table border=\"1\" class=\"dataframe\">\n",
       "  <thead>\n",
       "    <tr style=\"text-align: right;\">\n",
       "      <th></th>\n",
       "      <th>Studio</th>\n",
       "      <th>Title</th>\n",
       "    </tr>\n",
       "  </thead>\n",
       "  <tbody>\n",
       "    <tr>\n",
       "      <th>1</th>\n",
       "      <td>Buena Vista</td>\n",
       "      <td>35</td>\n",
       "    </tr>\n",
       "    <tr>\n",
       "      <th>22</th>\n",
       "      <td>Warner Brothers</td>\n",
       "      <td>29</td>\n",
       "    </tr>\n",
       "    <tr>\n",
       "      <th>13</th>\n",
       "      <td>Paramount</td>\n",
       "      <td>25</td>\n",
       "    </tr>\n",
       "    <tr>\n",
       "      <th>5</th>\n",
       "      <td>Fox</td>\n",
       "      <td>24</td>\n",
       "    </tr>\n",
       "    <tr>\n",
       "      <th>21</th>\n",
       "      <td>Universal</td>\n",
       "      <td>23</td>\n",
       "    </tr>\n",
       "    <tr>\n",
       "      <th>3</th>\n",
       "      <td>Disney</td>\n",
       "      <td>11</td>\n",
       "    </tr>\n",
       "    <tr>\n",
       "      <th>2</th>\n",
       "      <td>Columbia</td>\n",
       "      <td>9</td>\n",
       "    </tr>\n",
       "    <tr>\n",
       "      <th>8</th>\n",
       "      <td>MGM</td>\n",
       "      <td>7</td>\n",
       "    </tr>\n",
       "    <tr>\n",
       "      <th>20</th>\n",
       "      <td>United Artists</td>\n",
       "      <td>6</td>\n",
       "    </tr>\n",
       "    <tr>\n",
       "      <th>11</th>\n",
       "      <td>Newline</td>\n",
       "      <td>5</td>\n",
       "    </tr>\n",
       "  </tbody>\n",
       "</table>\n",
       "</div>"
      ],
      "text/plain": [
       "             Studio  Title\n",
       "1       Buena Vista     35\n",
       "22  Warner Brothers     29\n",
       "13        Paramount     25\n",
       "5               Fox     24\n",
       "21        Universal     23\n",
       "3            Disney     11\n",
       "2          Columbia      9\n",
       "8               MGM      7\n",
       "20   United Artists      6\n",
       "11          Newline      5"
      ]
     },
     "execution_count": 19,
     "metadata": {},
     "output_type": "execute_result"
    }
   ],
   "source": [
    "studio_distribution = top.groupby(['Studio']).Title.count()\\\n",
    "    .reset_index().sort_values('Title',ascending=False)\n",
    "studio_distribution.head(10)"
   ]
  },
  {
   "cell_type": "code",
   "execution_count": 20,
   "metadata": {},
   "outputs": [
    {
     "data": {
      "text/plain": [
       "200"
      ]
     },
     "execution_count": 20,
     "metadata": {},
     "output_type": "execute_result"
    }
   ],
   "source": [
    "# sanity check - did we account for all rows?\n",
    "studio_distribution.Title.sum()"
   ]
  },
  {
   "cell_type": "markdown",
   "metadata": {},
   "source": [
    "## Bar Charts ##"
   ]
  },
  {
   "cell_type": "code",
   "execution_count": 21,
   "metadata": {},
   "outputs": [
    {
     "data": {
      "text/plain": [
       "<AxesSubplot:xlabel='Studio'>"
      ]
     },
     "execution_count": 21,
     "metadata": {},
     "output_type": "execute_result"
    },
    {
     "data": {
      "image/png": "[encoded data removed]",
      "text/plain": [
       "<Figure size 432x288 with 1 Axes>"
      ]
     },
     "metadata": {},
     "output_type": "display_data"
    }
   ],
   "source": [
    "#create a bar chart?\n",
    "studio_distribution.plot.bar('Studio')"
   ]
  },
  {
   "cell_type": "code",
   "execution_count": 22,
   "metadata": {},
   "outputs": [
    {
     "data": {
      "text/plain": [
       "<AxesSubplot:ylabel='Studio'>"
      ]
     },
     "execution_count": 22,
     "metadata": {},
     "output_type": "execute_result"
    },
    {
     "data": {
      "image/png": "[encoded data removed]",
      "text/plain": [
       "<Figure size 432x288 with 1 Axes>"
      ]
     },
     "metadata": {},
     "output_type": "display_data"
    }
   ],
   "source": [
    "#create a bar chart?\n",
    "studio_distribution.plot.barh('Studio')"
   ]
  },
  {
   "cell_type": "code",
   "execution_count": 23,
   "metadata": {},
   "outputs": [
    {
     "data": {
      "text/plain": [
       "<AxesSubplot:ylabel='Studio'>"
      ]
     },
     "execution_count": 23,
     "metadata": {},
     "output_type": "execute_result"
    },
    {
     "data": {
      "image/png": "[encoded data removed]",
      "text/plain": [
       "<Figure size 432x288 with 1 Axes>"
      ]
     },
     "metadata": {},
     "output_type": "display_data"
    }
   ],
   "source": [
    "#To see only the top 10\n",
    "studio_distribution.head(10).plot.barh('Studio')"
   ]
  },
  {
   "cell_type": "code",
   "execution_count": 24,
   "metadata": {},
   "outputs": [
    {
     "data": {
      "text/plain": [
       "<AxesSubplot:ylabel='Studio'>"
      ]
     },
     "execution_count": 24,
     "metadata": {},
     "output_type": "execute_result"
    },
    {
     "data": {
      "image/png": "[encoded data removed]",
      "text/plain": [
       "<Figure size 432x288 with 1 Axes>"
      ]
     },
     "metadata": {},
     "output_type": "display_data"
    }
   ],
   "source": [
    "#can flip it around to have the bigger ones on top by sorting.  \n",
    "#Note that we also had to swtich from .head() to .tail().\n",
    "\n",
    "sorted_sd = studio_distribution.sort_values('Title')\n",
    "sorted_sd.tail(10).plot.barh('Studio')"
   ]
  },
  {
   "cell_type": "markdown",
   "metadata": {},
   "source": [
    "   ## Binning ##"
   ]
  },
  {
   "cell_type": "code",
   "execution_count": 25,
   "metadata": {},
   "outputs": [
    {
     "data": {
      "text/html": [
       "<div>\n",
       "<style scoped>\n",
       "    .dataframe tbody tr th:only-of-type {\n",
       "        vertical-align: middle;\n",
       "    }\n",
       "\n",
       "    .dataframe tbody tr th {\n",
       "        vertical-align: top;\n",
       "    }\n",
       "\n",
       "    .dataframe thead th {\n",
       "        text-align: right;\n",
       "    }\n",
       "</style>\n",
       "<table border=\"1\" class=\"dataframe\">\n",
       "  <thead>\n",
       "    <tr style=\"text-align: right;\">\n",
       "      <th></th>\n",
       "      <th>Title</th>\n",
       "      <th>Studio</th>\n",
       "      <th>Gross</th>\n",
       "      <th>Gross (Adjusted)</th>\n",
       "      <th>Year</th>\n",
       "      <th>Age</th>\n",
       "    </tr>\n",
       "  </thead>\n",
       "  <tbody>\n",
       "    <tr>\n",
       "      <th>0</th>\n",
       "      <td>Gone with the Wind</td>\n",
       "      <td>MGM</td>\n",
       "      <td>198676459</td>\n",
       "      <td>1796176700</td>\n",
       "      <td>1939</td>\n",
       "      <td>78</td>\n",
       "    </tr>\n",
       "    <tr>\n",
       "      <th>1</th>\n",
       "      <td>Star Wars</td>\n",
       "      <td>Fox</td>\n",
       "      <td>460998007</td>\n",
       "      <td>1583483200</td>\n",
       "      <td>1977</td>\n",
       "      <td>40</td>\n",
       "    </tr>\n",
       "    <tr>\n",
       "      <th>2</th>\n",
       "      <td>The Sound of Music</td>\n",
       "      <td>Fox</td>\n",
       "      <td>158671368</td>\n",
       "      <td>1266072700</td>\n",
       "      <td>1965</td>\n",
       "      <td>52</td>\n",
       "    </tr>\n",
       "    <tr>\n",
       "      <th>3</th>\n",
       "      <td>E.T.: The Extra-Terrestrial</td>\n",
       "      <td>Universal</td>\n",
       "      <td>435110554</td>\n",
       "      <td>1261085000</td>\n",
       "      <td>1982</td>\n",
       "      <td>35</td>\n",
       "    </tr>\n",
       "    <tr>\n",
       "      <th>4</th>\n",
       "      <td>Titanic</td>\n",
       "      <td>Paramount</td>\n",
       "      <td>658672302</td>\n",
       "      <td>1204368000</td>\n",
       "      <td>1997</td>\n",
       "      <td>20</td>\n",
       "    </tr>\n",
       "  </tbody>\n",
       "</table>\n",
       "</div>"
      ],
      "text/plain": [
       "                         Title     Studio      Gross  Gross (Adjusted)  Year  \\\n",
       "0           Gone with the Wind        MGM  198676459        1796176700  1939   \n",
       "1                    Star Wars        Fox  460998007        1583483200  1977   \n",
       "2           The Sound of Music        Fox  158671368        1266072700  1965   \n",
       "3  E.T.: The Extra-Terrestrial  Universal  435110554        1261085000  1982   \n",
       "4                      Titanic  Paramount  658672302        1204368000  1997   \n",
       "\n",
       "   Age  \n",
       "0   78  \n",
       "1   40  \n",
       "2   52  \n",
       "3   35  \n",
       "4   20  "
      ]
     },
     "execution_count": 25,
     "metadata": {},
     "output_type": "execute_result"
    }
   ],
   "source": [
    "#Let's add a column for how old each movie was at the time (i.e. 2017)\n",
    "ages = 2017 - top.Year\n",
    "top['Age'] = ages\n",
    "top.head()\n"
   ]
  },
  {
   "cell_type": "code",
   "execution_count": 26,
   "metadata": {},
   "outputs": [
    {
     "name": "stdout",
     "output_type": "stream",
     "text": [
      "minimum age is 0 ; maximum age is 96\n"
     ]
    }
   ],
   "source": [
    "#what's the range of ages in the ages array?\n",
    "print('minimum age is', min(ages), '; maximum age is', max(ages))"
   ]
  },
  {
   "cell_type": "code",
   "execution_count": 27,
   "metadata": {},
   "outputs": [
    {
     "name": "stdout",
     "output_type": "stream",
     "text": [
      "minimum age is 0 ; maximum age is 96\n"
     ]
    }
   ],
   "source": [
    "#or can do this with the \"top\" table\n",
    "print('minimum age is', min(top.Age), '; maximum age is', max(top.Age))"
   ]
  },
  {
   "cell_type": "markdown",
   "metadata": {},
   "source": [
    "### binning groups items into value ranges ###"
   ]
  },
  {
   "cell_type": "code",
   "execution_count": 28,
   "metadata": {},
   "outputs": [
    {
     "data": {
      "text/plain": [
       "array([[<AxesSubplot:title={'center':'Age'}>]], dtype=object)"
      ]
     },
     "execution_count": 28,
     "metadata": {},
     "output_type": "execute_result"
    },
    {
     "data": {
      "image/png": "[encoded data removed]",
      "text/plain": [
       "<Figure size 432x288 with 1 Axes>"
      ]
     },
     "metadata": {},
     "output_type": "display_data"
    }
   ],
   "source": [
    "top.hist('Age')"
   ]
  },
  {
   "cell_type": "markdown",
   "metadata": {},
   "source": [
    "## Equal sized bins preserve the area principle (look what can happen when with unequal sized bins)"
   ]
  },
  {
   "cell_type": "code",
   "execution_count": 29,
   "metadata": {},
   "outputs": [
    {
     "data": {
      "text/plain": [
       "array([  0,   5,  10,  15,  25,  40,  65,  80, 100])"
      ]
     },
     "execution_count": 29,
     "metadata": {},
     "output_type": "execute_result"
    }
   ],
   "source": [
    "my_bins = np.array([0, 5, 10, 15, 25, 40, 65, 80, 100])\n",
    "my_bins"
   ]
  },
  {
   "cell_type": "code",
   "execution_count": 30,
   "metadata": {},
   "outputs": [
    {
     "data": {
      "text/plain": [
       "array([[<AxesSubplot:title={'center':'Age'}>]], dtype=object)"
      ]
     },
     "execution_count": 30,
     "metadata": {},
     "output_type": "execute_result"
    },
    {
     "data": {
      "image/png": "[encoded data removed]",
      "text/plain": [
       "<Figure size 432x288 with 1 Axes>"
      ]
     },
     "metadata": {},
     "output_type": "display_data"
    }
   ],
   "source": [
    "top.hist('Age',bins=my_bins)"
   ]
  },
  {
   "cell_type": "markdown",
   "metadata": {},
   "source": [
    "## But smaller bins can show some interesting details"
   ]
  },
  {
   "cell_type": "code",
   "execution_count": 31,
   "metadata": {},
   "outputs": [
    {
     "data": {
      "text/plain": [
       "array([[<AxesSubplot:title={'center':'Age'}>]], dtype=object)"
      ]
     },
     "execution_count": 31,
     "metadata": {},
     "output_type": "execute_result"
    },
    {
     "data": {
      "image/png": "[encoded data removed]",
      "text/plain": [
       "<Figure size 432x288 with 1 Axes>"
      ]
     },
     "metadata": {},
     "output_type": "display_data"
    }
   ],
   "source": [
    "#Increasing the number of bins gives a finer-grained view of the distribution.\n",
    "#But this may not be as smooth as a histogram of the same data using larger bins.\n",
    "top.hist('Age',bins=20)"
   ]
  },
  {
   "cell_type": "code",
   "execution_count": null,
   "metadata": {},
   "outputs": [],
   "source": []
  }
 ],
 "metadata": {
  "anaconda-cloud": {},
  "kernelspec": {
   "display_name": "Python 3 (ipykernel)",
   "language": "python",
   "name": "python3"
  },
  "language_info": {
   "codemirror_mode": {
    "name": "ipython",
    "version": 3
   },
   "file_extension": ".py",
   "mimetype": "text/x-python",
   "name": "python",
   "nbconvert_exporter": "python",
   "pygments_lexer": "ipython3",
   "version": "3.9.12"
  }
 },
 "nbformat": 4,
 "nbformat_minor": 4
}
